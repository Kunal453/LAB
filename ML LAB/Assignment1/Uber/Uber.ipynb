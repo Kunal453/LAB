{
 "cells": [
  {
   "cell_type": "markdown",
   "id": "8d5dc461",
   "metadata": {},
   "source": [
    "#Predict the price of the Uber ride from a given pickup\n",
    "point to the agreed drop-off location. Perform following\n",
    "tasks:\n",
    "1. Pre-process the dataset.\n",
    "2. Identify outliers.\n",
    "3. Check the correlation.\n",
    "4. Implement linear regression and random forest regression models.\n",
    "5. Evaluate the models and compare their respective scores like R2, RMSE, etc"
   ]
  },
  {
   "cell_type": "code",
   "execution_count": null,
   "id": "aac78b00",
   "metadata": {},
   "outputs": [],
   "source": []
  },
  {
   "cell_type": "code",
   "execution_count": 1,
   "id": "22738bef",
   "metadata": {},
   "outputs": [],
   "source": [
    "import numpy as np\n",
    "import pandas as pd\n",
    "import seaborn as sns\n",
    "import matplotlib.pyplot as plt\n",
    "\n",
    "from sklearn.ensemble import RandomForestRegressor\n",
    "from sklearn import metrics\n",
    "from sklearn import preprocessing"
   ]
  },
  {
   "cell_type": "code",
   "execution_count": 2,
   "id": "ebe73df8",
   "metadata": {},
   "outputs": [],
   "source": [
    "df  = pd.read_csv(\"uber.csv\")"
   ]
  },
  {
   "cell_type": "markdown",
   "id": "da313ede",
   "metadata": {},
   "source": [
    "\n",
    "\n",
    "\n",
    "\n",
    "\n",
    "\n",
    "\n",
    "\n",
    "\n",
    "\n",
    "\n",
    "\n",
    "\n",
    "\n",
    "\n",
    "\n",
    "\n",
    "\n",
    "\n",
    "### 1. Pre-process the dataset."
   ]
  },
  {
   "cell_type": "code",
   "execution_count": 3,
   "id": "293cc79e",
   "metadata": {},
   "outputs": [
    {
     "data": {
      "text/html": [
       "<div>\n",
       "<style scoped>\n",
       "    .dataframe tbody tr th:only-of-type {\n",
       "        vertical-align: middle;\n",
       "    }\n",
       "\n",
       "    .dataframe tbody tr th {\n",
       "        vertical-align: top;\n",
       "    }\n",
       "\n",
       "    .dataframe thead th {\n",
       "        text-align: right;\n",
       "    }\n",
       "</style>\n",
       "<table border=\"1\" class=\"dataframe\">\n",
       "  <thead>\n",
       "    <tr style=\"text-align: right;\">\n",
       "      <th></th>\n",
       "      <th>Unnamed: 0</th>\n",
       "      <th>key</th>\n",
       "      <th>fare_amount</th>\n",
       "      <th>pickup_datetime</th>\n",
       "      <th>pickup_longitude</th>\n",
       "      <th>pickup_latitude</th>\n",
       "      <th>dropoff_longitude</th>\n",
       "      <th>dropoff_latitude</th>\n",
       "      <th>passenger_count</th>\n",
       "    </tr>\n",
       "  </thead>\n",
       "  <tbody>\n",
       "    <tr>\n",
       "      <th>0</th>\n",
       "      <td>24238194</td>\n",
       "      <td>2015-05-07 19:52:06.0000003</td>\n",
       "      <td>7.5</td>\n",
       "      <td>2015-05-07 19:52:06 UTC</td>\n",
       "      <td>-73.999817</td>\n",
       "      <td>40.738354</td>\n",
       "      <td>-73.999512</td>\n",
       "      <td>40.723217</td>\n",
       "      <td>1</td>\n",
       "    </tr>\n",
       "    <tr>\n",
       "      <th>1</th>\n",
       "      <td>27835199</td>\n",
       "      <td>2009-07-17 20:04:56.0000002</td>\n",
       "      <td>7.7</td>\n",
       "      <td>2009-07-17 20:04:56 UTC</td>\n",
       "      <td>-73.994355</td>\n",
       "      <td>40.728225</td>\n",
       "      <td>-73.994710</td>\n",
       "      <td>40.750325</td>\n",
       "      <td>1</td>\n",
       "    </tr>\n",
       "    <tr>\n",
       "      <th>2</th>\n",
       "      <td>44984355</td>\n",
       "      <td>2009-08-24 21:45:00.00000061</td>\n",
       "      <td>12.9</td>\n",
       "      <td>2009-08-24 21:45:00 UTC</td>\n",
       "      <td>-74.005043</td>\n",
       "      <td>40.740770</td>\n",
       "      <td>-73.962565</td>\n",
       "      <td>40.772647</td>\n",
       "      <td>1</td>\n",
       "    </tr>\n",
       "    <tr>\n",
       "      <th>3</th>\n",
       "      <td>25894730</td>\n",
       "      <td>2009-06-26 08:22:21.0000001</td>\n",
       "      <td>5.3</td>\n",
       "      <td>2009-06-26 08:22:21 UTC</td>\n",
       "      <td>-73.976124</td>\n",
       "      <td>40.790844</td>\n",
       "      <td>-73.965316</td>\n",
       "      <td>40.803349</td>\n",
       "      <td>3</td>\n",
       "    </tr>\n",
       "    <tr>\n",
       "      <th>4</th>\n",
       "      <td>17610152</td>\n",
       "      <td>2014-08-28 17:47:00.000000188</td>\n",
       "      <td>16.0</td>\n",
       "      <td>2014-08-28 17:47:00 UTC</td>\n",
       "      <td>-73.925023</td>\n",
       "      <td>40.744085</td>\n",
       "      <td>-73.973082</td>\n",
       "      <td>40.761247</td>\n",
       "      <td>5</td>\n",
       "    </tr>\n",
       "  </tbody>\n",
       "</table>\n",
       "</div>"
      ],
      "text/plain": [
       "   Unnamed: 0                            key  fare_amount   \n",
       "0    24238194    2015-05-07 19:52:06.0000003          7.5  \\\n",
       "1    27835199    2009-07-17 20:04:56.0000002          7.7   \n",
       "2    44984355   2009-08-24 21:45:00.00000061         12.9   \n",
       "3    25894730    2009-06-26 08:22:21.0000001          5.3   \n",
       "4    17610152  2014-08-28 17:47:00.000000188         16.0   \n",
       "\n",
       "           pickup_datetime  pickup_longitude  pickup_latitude   \n",
       "0  2015-05-07 19:52:06 UTC        -73.999817        40.738354  \\\n",
       "1  2009-07-17 20:04:56 UTC        -73.994355        40.728225   \n",
       "2  2009-08-24 21:45:00 UTC        -74.005043        40.740770   \n",
       "3  2009-06-26 08:22:21 UTC        -73.976124        40.790844   \n",
       "4  2014-08-28 17:47:00 UTC        -73.925023        40.744085   \n",
       "\n",
       "   dropoff_longitude  dropoff_latitude  passenger_count  \n",
       "0         -73.999512         40.723217                1  \n",
       "1         -73.994710         40.750325                1  \n",
       "2         -73.962565         40.772647                1  \n",
       "3         -73.965316         40.803349                3  \n",
       "4         -73.973082         40.761247                5  "
      ]
     },
     "execution_count": 3,
     "metadata": {},
     "output_type": "execute_result"
    }
   ],
   "source": [
    "df.head()"
   ]
  },
  {
   "cell_type": "code",
   "execution_count": 4,
   "id": "9289c694",
   "metadata": {},
   "outputs": [
    {
     "data": {
      "text/html": [
       "<div>\n",
       "<style scoped>\n",
       "    .dataframe tbody tr th:only-of-type {\n",
       "        vertical-align: middle;\n",
       "    }\n",
       "\n",
       "    .dataframe tbody tr th {\n",
       "        vertical-align: top;\n",
       "    }\n",
       "\n",
       "    .dataframe thead th {\n",
       "        text-align: right;\n",
       "    }\n",
       "</style>\n",
       "<table border=\"1\" class=\"dataframe\">\n",
       "  <thead>\n",
       "    <tr style=\"text-align: right;\">\n",
       "      <th></th>\n",
       "      <th>Unnamed: 0</th>\n",
       "      <th>fare_amount</th>\n",
       "      <th>pickup_longitude</th>\n",
       "      <th>pickup_latitude</th>\n",
       "      <th>dropoff_longitude</th>\n",
       "      <th>dropoff_latitude</th>\n",
       "      <th>passenger_count</th>\n",
       "    </tr>\n",
       "  </thead>\n",
       "  <tbody>\n",
       "    <tr>\n",
       "      <th>count</th>\n",
       "      <td>2.000000e+05</td>\n",
       "      <td>200000.000000</td>\n",
       "      <td>200000.000000</td>\n",
       "      <td>200000.000000</td>\n",
       "      <td>199999.000000</td>\n",
       "      <td>199999.000000</td>\n",
       "      <td>200000.000000</td>\n",
       "    </tr>\n",
       "    <tr>\n",
       "      <th>mean</th>\n",
       "      <td>2.771250e+07</td>\n",
       "      <td>11.359955</td>\n",
       "      <td>-72.527638</td>\n",
       "      <td>39.935885</td>\n",
       "      <td>-72.525292</td>\n",
       "      <td>39.923890</td>\n",
       "      <td>1.684535</td>\n",
       "    </tr>\n",
       "    <tr>\n",
       "      <th>std</th>\n",
       "      <td>1.601382e+07</td>\n",
       "      <td>9.901776</td>\n",
       "      <td>11.437787</td>\n",
       "      <td>7.720539</td>\n",
       "      <td>13.117408</td>\n",
       "      <td>6.794829</td>\n",
       "      <td>1.385997</td>\n",
       "    </tr>\n",
       "    <tr>\n",
       "      <th>min</th>\n",
       "      <td>1.000000e+00</td>\n",
       "      <td>-52.000000</td>\n",
       "      <td>-1340.648410</td>\n",
       "      <td>-74.015515</td>\n",
       "      <td>-3356.666300</td>\n",
       "      <td>-881.985513</td>\n",
       "      <td>0.000000</td>\n",
       "    </tr>\n",
       "    <tr>\n",
       "      <th>25%</th>\n",
       "      <td>1.382535e+07</td>\n",
       "      <td>6.000000</td>\n",
       "      <td>-73.992065</td>\n",
       "      <td>40.734796</td>\n",
       "      <td>-73.991407</td>\n",
       "      <td>40.733823</td>\n",
       "      <td>1.000000</td>\n",
       "    </tr>\n",
       "    <tr>\n",
       "      <th>50%</th>\n",
       "      <td>2.774550e+07</td>\n",
       "      <td>8.500000</td>\n",
       "      <td>-73.981823</td>\n",
       "      <td>40.752592</td>\n",
       "      <td>-73.980093</td>\n",
       "      <td>40.753042</td>\n",
       "      <td>1.000000</td>\n",
       "    </tr>\n",
       "    <tr>\n",
       "      <th>75%</th>\n",
       "      <td>4.155530e+07</td>\n",
       "      <td>12.500000</td>\n",
       "      <td>-73.967154</td>\n",
       "      <td>40.767158</td>\n",
       "      <td>-73.963658</td>\n",
       "      <td>40.768001</td>\n",
       "      <td>2.000000</td>\n",
       "    </tr>\n",
       "    <tr>\n",
       "      <th>max</th>\n",
       "      <td>5.542357e+07</td>\n",
       "      <td>499.000000</td>\n",
       "      <td>57.418457</td>\n",
       "      <td>1644.421482</td>\n",
       "      <td>1153.572603</td>\n",
       "      <td>872.697628</td>\n",
       "      <td>208.000000</td>\n",
       "    </tr>\n",
       "  </tbody>\n",
       "</table>\n",
       "</div>"
      ],
      "text/plain": [
       "         Unnamed: 0    fare_amount  pickup_longitude  pickup_latitude   \n",
       "count  2.000000e+05  200000.000000     200000.000000    200000.000000  \\\n",
       "mean   2.771250e+07      11.359955        -72.527638        39.935885   \n",
       "std    1.601382e+07       9.901776         11.437787         7.720539   \n",
       "min    1.000000e+00     -52.000000      -1340.648410       -74.015515   \n",
       "25%    1.382535e+07       6.000000        -73.992065        40.734796   \n",
       "50%    2.774550e+07       8.500000        -73.981823        40.752592   \n",
       "75%    4.155530e+07      12.500000        -73.967154        40.767158   \n",
       "max    5.542357e+07     499.000000         57.418457      1644.421482   \n",
       "\n",
       "       dropoff_longitude  dropoff_latitude  passenger_count  \n",
       "count      199999.000000     199999.000000    200000.000000  \n",
       "mean          -72.525292         39.923890         1.684535  \n",
       "std            13.117408          6.794829         1.385997  \n",
       "min         -3356.666300       -881.985513         0.000000  \n",
       "25%           -73.991407         40.733823         1.000000  \n",
       "50%           -73.980093         40.753042         1.000000  \n",
       "75%           -73.963658         40.768001         2.000000  \n",
       "max          1153.572603        872.697628       208.000000  "
      ]
     },
     "execution_count": 4,
     "metadata": {},
     "output_type": "execute_result"
    }
   ],
   "source": [
    "df.describe()"
   ]
  },
  {
   "cell_type": "code",
   "execution_count": 5,
   "id": "91f5ed8f",
   "metadata": {},
   "outputs": [
    {
     "name": "stdout",
     "output_type": "stream",
     "text": [
      "<class 'pandas.core.frame.DataFrame'>\n",
      "RangeIndex: 200000 entries, 0 to 199999\n",
      "Data columns (total 9 columns):\n",
      " #   Column             Non-Null Count   Dtype  \n",
      "---  ------             --------------   -----  \n",
      " 0   Unnamed: 0         200000 non-null  int64  \n",
      " 1   key                200000 non-null  object \n",
      " 2   fare_amount        200000 non-null  float64\n",
      " 3   pickup_datetime    200000 non-null  object \n",
      " 4   pickup_longitude   200000 non-null  float64\n",
      " 5   pickup_latitude    200000 non-null  float64\n",
      " 6   dropoff_longitude  199999 non-null  float64\n",
      " 7   dropoff_latitude   199999 non-null  float64\n",
      " 8   passenger_count    200000 non-null  int64  \n",
      "dtypes: float64(5), int64(2), object(2)\n",
      "memory usage: 13.7+ MB\n"
     ]
    }
   ],
   "source": [
    "df.info()"
   ]
  },
  {
   "cell_type": "code",
   "execution_count": 6,
   "id": "2dd90d0a",
   "metadata": {},
   "outputs": [
    {
     "data": {
      "text/plain": [
       "Index(['Unnamed: 0', 'key', 'fare_amount', 'pickup_datetime',\n",
       "       'pickup_longitude', 'pickup_latitude', 'dropoff_longitude',\n",
       "       'dropoff_latitude', 'passenger_count'],\n",
       "      dtype='object')"
      ]
     },
     "execution_count": 6,
     "metadata": {},
     "output_type": "execute_result"
    }
   ],
   "source": [
    "df.columns"
   ]
  },
  {
   "cell_type": "code",
   "execution_count": 7,
   "id": "1265d17f",
   "metadata": {},
   "outputs": [
    {
     "data": {
      "text/plain": [
       "(200000, 9)"
      ]
     },
     "execution_count": 7,
     "metadata": {},
     "output_type": "execute_result"
    }
   ],
   "source": [
    "df.shape"
   ]
  },
  {
   "cell_type": "code",
   "execution_count": 8,
   "id": "a30ac66e",
   "metadata": {},
   "outputs": [
    {
     "data": {
      "text/plain": [
       "Unnamed: 0             int64\n",
       "key                   object\n",
       "fare_amount          float64\n",
       "pickup_datetime       object\n",
       "pickup_longitude     float64\n",
       "pickup_latitude      float64\n",
       "dropoff_longitude    float64\n",
       "dropoff_latitude     float64\n",
       "passenger_count        int64\n",
       "dtype: object"
      ]
     },
     "execution_count": 8,
     "metadata": {},
     "output_type": "execute_result"
    }
   ],
   "source": [
    "df.dtypes"
   ]
  },
  {
   "cell_type": "markdown",
   "id": "fa6286e7",
   "metadata": {},
   "source": [
    "### Filling Missing Value"
   ]
  },
  {
   "cell_type": "code",
   "execution_count": 9,
   "id": "25941c45",
   "metadata": {},
   "outputs": [
    {
     "data": {
      "text/plain": [
       "Unnamed: 0           0\n",
       "key                  0\n",
       "fare_amount          0\n",
       "pickup_datetime      0\n",
       "pickup_longitude     0\n",
       "pickup_latitude      0\n",
       "dropoff_longitude    1\n",
       "dropoff_latitude     1\n",
       "passenger_count      0\n",
       "dtype: int64"
      ]
     },
     "execution_count": 9,
     "metadata": {},
     "output_type": "execute_result"
    }
   ],
   "source": [
    "df.isnull().sum()"
   ]
  },
  {
   "cell_type": "code",
   "execution_count": 10,
   "id": "88fbcd79",
   "metadata": {},
   "outputs": [],
   "source": [
    "df['dropoff_latitude'].fillna(value=df['dropoff_latitude'].mean(),inplace = True)\n",
    "df['dropoff_longitude'].fillna(value=df['dropoff_longitude'].median(), inplace=True)"
   ]
  },
  {
   "cell_type": "code",
   "execution_count": 11,
   "id": "e0a86e61",
   "metadata": {},
   "outputs": [
    {
     "data": {
      "text/plain": [
       "Unnamed: 0           0\n",
       "key                  0\n",
       "fare_amount          0\n",
       "pickup_datetime      0\n",
       "pickup_longitude     0\n",
       "pickup_latitude      0\n",
       "dropoff_longitude    0\n",
       "dropoff_latitude     0\n",
       "passenger_count      0\n",
       "dtype: int64"
      ]
     },
     "execution_count": 11,
     "metadata": {},
     "output_type": "execute_result"
    }
   ],
   "source": [
    "df.isnull().sum()"
   ]
  },
  {
   "cell_type": "code",
   "execution_count": 12,
   "id": "ffce90b4",
   "metadata": {},
   "outputs": [],
   "source": [
    "df = df.drop(['Unnamed: 0', 'key'], axis= 1) "
   ]
  },
  {
   "cell_type": "code",
   "execution_count": 13,
   "id": "eca3e347",
   "metadata": {
    "scrolled": true
   },
   "outputs": [
    {
     "data": {
      "text/html": [
       "<div>\n",
       "<style scoped>\n",
       "    .dataframe tbody tr th:only-of-type {\n",
       "        vertical-align: middle;\n",
       "    }\n",
       "\n",
       "    .dataframe tbody tr th {\n",
       "        vertical-align: top;\n",
       "    }\n",
       "\n",
       "    .dataframe thead th {\n",
       "        text-align: right;\n",
       "    }\n",
       "</style>\n",
       "<table border=\"1\" class=\"dataframe\">\n",
       "  <thead>\n",
       "    <tr style=\"text-align: right;\">\n",
       "      <th></th>\n",
       "      <th>fare_amount</th>\n",
       "      <th>pickup_datetime</th>\n",
       "      <th>pickup_longitude</th>\n",
       "      <th>pickup_latitude</th>\n",
       "      <th>dropoff_longitude</th>\n",
       "      <th>dropoff_latitude</th>\n",
       "      <th>passenger_count</th>\n",
       "    </tr>\n",
       "  </thead>\n",
       "  <tbody>\n",
       "    <tr>\n",
       "      <th>0</th>\n",
       "      <td>7.5</td>\n",
       "      <td>2015-05-07 19:52:06 UTC</td>\n",
       "      <td>-73.999817</td>\n",
       "      <td>40.738354</td>\n",
       "      <td>-73.999512</td>\n",
       "      <td>40.723217</td>\n",
       "      <td>1</td>\n",
       "    </tr>\n",
       "    <tr>\n",
       "      <th>1</th>\n",
       "      <td>7.7</td>\n",
       "      <td>2009-07-17 20:04:56 UTC</td>\n",
       "      <td>-73.994355</td>\n",
       "      <td>40.728225</td>\n",
       "      <td>-73.994710</td>\n",
       "      <td>40.750325</td>\n",
       "      <td>1</td>\n",
       "    </tr>\n",
       "    <tr>\n",
       "      <th>2</th>\n",
       "      <td>12.9</td>\n",
       "      <td>2009-08-24 21:45:00 UTC</td>\n",
       "      <td>-74.005043</td>\n",
       "      <td>40.740770</td>\n",
       "      <td>-73.962565</td>\n",
       "      <td>40.772647</td>\n",
       "      <td>1</td>\n",
       "    </tr>\n",
       "    <tr>\n",
       "      <th>3</th>\n",
       "      <td>5.3</td>\n",
       "      <td>2009-06-26 08:22:21 UTC</td>\n",
       "      <td>-73.976124</td>\n",
       "      <td>40.790844</td>\n",
       "      <td>-73.965316</td>\n",
       "      <td>40.803349</td>\n",
       "      <td>3</td>\n",
       "    </tr>\n",
       "    <tr>\n",
       "      <th>4</th>\n",
       "      <td>16.0</td>\n",
       "      <td>2014-08-28 17:47:00 UTC</td>\n",
       "      <td>-73.925023</td>\n",
       "      <td>40.744085</td>\n",
       "      <td>-73.973082</td>\n",
       "      <td>40.761247</td>\n",
       "      <td>5</td>\n",
       "    </tr>\n",
       "  </tbody>\n",
       "</table>\n",
       "</div>"
      ],
      "text/plain": [
       "   fare_amount          pickup_datetime  pickup_longitude  pickup_latitude   \n",
       "0          7.5  2015-05-07 19:52:06 UTC        -73.999817        40.738354  \\\n",
       "1          7.7  2009-07-17 20:04:56 UTC        -73.994355        40.728225   \n",
       "2         12.9  2009-08-24 21:45:00 UTC        -74.005043        40.740770   \n",
       "3          5.3  2009-06-26 08:22:21 UTC        -73.976124        40.790844   \n",
       "4         16.0  2014-08-28 17:47:00 UTC        -73.925023        40.744085   \n",
       "\n",
       "   dropoff_longitude  dropoff_latitude  passenger_count  \n",
       "0         -73.999512         40.723217                1  \n",
       "1         -73.994710         40.750325                1  \n",
       "2         -73.962565         40.772647                1  \n",
       "3         -73.965316         40.803349                3  \n",
       "4         -73.973082         40.761247                5  "
      ]
     },
     "execution_count": 13,
     "metadata": {},
     "output_type": "execute_result"
    }
   ],
   "source": [
    "df.head()"
   ]
  },
  {
   "cell_type": "markdown",
   "id": "e39d966e",
   "metadata": {},
   "source": [
    "### Column pickup_datetime is in wrong format (Object). Convert it to DateTime Format\n"
   ]
  },
  {
   "cell_type": "code",
   "execution_count": 14,
   "id": "6e5c9fad",
   "metadata": {},
   "outputs": [],
   "source": [
    "# Assuming df is your DataFrame and 'pickup_datetime' is your column\n",
    "df.pickup_datetime = pd.to_datetime(df.pickup_datetime, errors='coerce')"
   ]
  },
  {
   "cell_type": "code",
   "execution_count": 15,
   "id": "70151559",
   "metadata": {},
   "outputs": [],
   "source": [
    "## Separating the date and time into separate columns for more usability\n",
    "df= df.assign(\n",
    "            second = df.pickup_datetime.dt.second,\n",
    "            minute = df.pickup_datetime.dt.minute,\n",
    "            hour = df.pickup_datetime.dt.hour,\n",
    "            day= df.pickup_datetime.dt.day,\n",
    "            month = df.pickup_datetime.dt.month,\n",
    "            year = df.pickup_datetime.dt.year,\n",
    "            dayofweek = df.pickup_datetime.dt.dayofweek\n",
    "            )\n",
    "df = df.drop('pickup_datetime',axis=1)"
   ]
  },
  {
   "cell_type": "code",
   "execution_count": 16,
   "id": "cf9b58ca",
   "metadata": {},
   "outputs": [
    {
     "data": {
      "text/plain": [
       "fare_amount          float64\n",
       "pickup_longitude     float64\n",
       "pickup_latitude      float64\n",
       "dropoff_longitude    float64\n",
       "dropoff_latitude     float64\n",
       "passenger_count        int64\n",
       "second                 int32\n",
       "minute                 int32\n",
       "hour                   int32\n",
       "day                    int32\n",
       "month                  int32\n",
       "year                   int32\n",
       "dayofweek              int32\n",
       "dtype: object"
      ]
     },
     "execution_count": 16,
     "metadata": {},
     "output_type": "execute_result"
    }
   ],
   "source": [
    "df.dtypes"
   ]
  },
  {
   "cell_type": "code",
   "execution_count": 17,
   "id": "7cf0826b",
   "metadata": {},
   "outputs": [
    {
     "data": {
      "text/html": [
       "<div>\n",
       "<style scoped>\n",
       "    .dataframe tbody tr th:only-of-type {\n",
       "        vertical-align: middle;\n",
       "    }\n",
       "\n",
       "    .dataframe tbody tr th {\n",
       "        vertical-align: top;\n",
       "    }\n",
       "\n",
       "    .dataframe thead th {\n",
       "        text-align: right;\n",
       "    }\n",
       "</style>\n",
       "<table border=\"1\" class=\"dataframe\">\n",
       "  <thead>\n",
       "    <tr style=\"text-align: right;\">\n",
       "      <th></th>\n",
       "      <th>fare_amount</th>\n",
       "      <th>pickup_longitude</th>\n",
       "      <th>pickup_latitude</th>\n",
       "      <th>dropoff_longitude</th>\n",
       "      <th>dropoff_latitude</th>\n",
       "      <th>passenger_count</th>\n",
       "      <th>second</th>\n",
       "      <th>minute</th>\n",
       "      <th>hour</th>\n",
       "      <th>day</th>\n",
       "      <th>month</th>\n",
       "      <th>year</th>\n",
       "      <th>dayofweek</th>\n",
       "    </tr>\n",
       "  </thead>\n",
       "  <tbody>\n",
       "    <tr>\n",
       "      <th>0</th>\n",
       "      <td>7.5</td>\n",
       "      <td>-73.999817</td>\n",
       "      <td>40.738354</td>\n",
       "      <td>-73.999512</td>\n",
       "      <td>40.723217</td>\n",
       "      <td>1</td>\n",
       "      <td>6</td>\n",
       "      <td>52</td>\n",
       "      <td>19</td>\n",
       "      <td>7</td>\n",
       "      <td>5</td>\n",
       "      <td>2015</td>\n",
       "      <td>3</td>\n",
       "    </tr>\n",
       "    <tr>\n",
       "      <th>1</th>\n",
       "      <td>7.7</td>\n",
       "      <td>-73.994355</td>\n",
       "      <td>40.728225</td>\n",
       "      <td>-73.994710</td>\n",
       "      <td>40.750325</td>\n",
       "      <td>1</td>\n",
       "      <td>56</td>\n",
       "      <td>4</td>\n",
       "      <td>20</td>\n",
       "      <td>17</td>\n",
       "      <td>7</td>\n",
       "      <td>2009</td>\n",
       "      <td>4</td>\n",
       "    </tr>\n",
       "    <tr>\n",
       "      <th>2</th>\n",
       "      <td>12.9</td>\n",
       "      <td>-74.005043</td>\n",
       "      <td>40.740770</td>\n",
       "      <td>-73.962565</td>\n",
       "      <td>40.772647</td>\n",
       "      <td>1</td>\n",
       "      <td>0</td>\n",
       "      <td>45</td>\n",
       "      <td>21</td>\n",
       "      <td>24</td>\n",
       "      <td>8</td>\n",
       "      <td>2009</td>\n",
       "      <td>0</td>\n",
       "    </tr>\n",
       "    <tr>\n",
       "      <th>3</th>\n",
       "      <td>5.3</td>\n",
       "      <td>-73.976124</td>\n",
       "      <td>40.790844</td>\n",
       "      <td>-73.965316</td>\n",
       "      <td>40.803349</td>\n",
       "      <td>3</td>\n",
       "      <td>21</td>\n",
       "      <td>22</td>\n",
       "      <td>8</td>\n",
       "      <td>26</td>\n",
       "      <td>6</td>\n",
       "      <td>2009</td>\n",
       "      <td>4</td>\n",
       "    </tr>\n",
       "    <tr>\n",
       "      <th>4</th>\n",
       "      <td>16.0</td>\n",
       "      <td>-73.925023</td>\n",
       "      <td>40.744085</td>\n",
       "      <td>-73.973082</td>\n",
       "      <td>40.761247</td>\n",
       "      <td>5</td>\n",
       "      <td>0</td>\n",
       "      <td>47</td>\n",
       "      <td>17</td>\n",
       "      <td>28</td>\n",
       "      <td>8</td>\n",
       "      <td>2014</td>\n",
       "      <td>3</td>\n",
       "    </tr>\n",
       "  </tbody>\n",
       "</table>\n",
       "</div>"
      ],
      "text/plain": [
       "   fare_amount  pickup_longitude  pickup_latitude  dropoff_longitude   \n",
       "0          7.5        -73.999817        40.738354         -73.999512  \\\n",
       "1          7.7        -73.994355        40.728225         -73.994710   \n",
       "2         12.9        -74.005043        40.740770         -73.962565   \n",
       "3          5.3        -73.976124        40.790844         -73.965316   \n",
       "4         16.0        -73.925023        40.744085         -73.973082   \n",
       "\n",
       "   dropoff_latitude  passenger_count  second  minute  hour  day  month  year   \n",
       "0         40.723217                1       6      52    19    7      5  2015  \\\n",
       "1         40.750325                1      56       4    20   17      7  2009   \n",
       "2         40.772647                1       0      45    21   24      8  2009   \n",
       "3         40.803349                3      21      22     8   26      6  2009   \n",
       "4         40.761247                5       0      47    17   28      8  2014   \n",
       "\n",
       "   dayofweek  \n",
       "0          3  \n",
       "1          4  \n",
       "2          0  \n",
       "3          4  \n",
       "4          3  "
      ]
     },
     "execution_count": 17,
     "metadata": {},
     "output_type": "execute_result"
    }
   ],
   "source": [
    "df.head()"
   ]
  },
  {
   "cell_type": "markdown",
   "id": "b6e182e4",
   "metadata": {},
   "source": [
    "### Checking outliers and flling them"
   ]
  },
  {
   "cell_type": "code",
   "execution_count": 1,
   "id": "59032e12",
   "metadata": {
    "scrolled": true
   },
   "outputs": [
    {
     "ename": "NameError",
     "evalue": "name 'df' is not defined",
     "output_type": "error",
     "traceback": [
      "\u001b[1;31m---------------------------------------------------------------------------\u001b[0m",
      "\u001b[1;31mNameError\u001b[0m                                 Traceback (most recent call last)",
      "\u001b[1;32m<ipython-input-1-72a12f036ba0>\u001b[0m in \u001b[0;36m<module>\u001b[1;34m\u001b[0m\n\u001b[1;32m----> 1\u001b[1;33m \u001b[0mdf\u001b[0m\u001b[1;33m.\u001b[0m\u001b[0mplot\u001b[0m\u001b[1;33m(\u001b[0m\u001b[0mkind\u001b[0m \u001b[1;33m=\u001b[0m \u001b[1;34m\"box\"\u001b[0m\u001b[1;33m,\u001b[0m\u001b[0msubplots\u001b[0m \u001b[1;33m=\u001b[0m \u001b[1;32mTrue\u001b[0m\u001b[1;33m,\u001b[0m\u001b[0mlayout\u001b[0m \u001b[1;33m=\u001b[0m \u001b[1;33m(\u001b[0m\u001b[1;36m7\u001b[0m\u001b[1;33m,\u001b[0m\u001b[1;36m2\u001b[0m\u001b[1;33m)\u001b[0m\u001b[1;33m,\u001b[0m\u001b[0mfigsize\u001b[0m\u001b[1;33m=\u001b[0m\u001b[1;33m(\u001b[0m\u001b[1;36m15\u001b[0m\u001b[1;33m,\u001b[0m\u001b[1;36m20\u001b[0m\u001b[1;33m)\u001b[0m\u001b[1;33m)\u001b[0m\u001b[1;33m\u001b[0m\u001b[1;33m\u001b[0m\u001b[0m\n\u001b[0m",
      "\u001b[1;31mNameError\u001b[0m: name 'df' is not defined"
     ]
    }
   ],
   "source": [
    "df.plot(kind = \"box\",subplots = True,layout = (7,2),figsize=(15,20))"
   ]
  },
  {
   "cell_type": "code",
   "execution_count": 2,
   "id": "ea71f7a6",
   "metadata": {},
   "outputs": [
    {
     "ename": "NameError",
     "evalue": "name 'df' is not defined",
     "output_type": "error",
     "traceback": [
      "\u001b[1;31m---------------------------------------------------------------------------\u001b[0m",
      "\u001b[1;31mNameError\u001b[0m                                 Traceback (most recent call last)",
      "\u001b[1;32m<ipython-input-2-a3a394cfa470>\u001b[0m in \u001b[0;36m<module>\u001b[1;34m\u001b[0m\n\u001b[0;32m     16\u001b[0m \u001b[1;33m\u001b[0m\u001b[0m\n\u001b[0;32m     17\u001b[0m \u001b[1;31m# Assuming that 'df' is your DataFrame and 'df.columns' is the list of columns in your DataFrame\u001b[0m\u001b[1;33m\u001b[0m\u001b[1;33m\u001b[0m\u001b[1;33m\u001b[0m\u001b[0m\n\u001b[1;32m---> 18\u001b[1;33m \u001b[0mdf\u001b[0m \u001b[1;33m=\u001b[0m \u001b[0mtreat_outliers_all\u001b[0m\u001b[1;33m(\u001b[0m\u001b[0mdf\u001b[0m \u001b[1;33m,\u001b[0m \u001b[0mdf\u001b[0m\u001b[1;33m.\u001b[0m\u001b[0mcolumns\u001b[0m\u001b[1;33m)\u001b[0m\u001b[1;33m\u001b[0m\u001b[1;33m\u001b[0m\u001b[0m\n\u001b[0m\u001b[0;32m     19\u001b[0m \u001b[1;33m\u001b[0m\u001b[0m\n\u001b[0;32m     20\u001b[0m \u001b[1;31m# Plotting boxplots for all columns in the DataFrame\u001b[0m\u001b[1;33m\u001b[0m\u001b[1;33m\u001b[0m\u001b[1;33m\u001b[0m\u001b[0m\n",
      "\u001b[1;31mNameError\u001b[0m: name 'df' is not defined"
     ]
    }
   ],
   "source": [
    "import numpy as np\n",
    "\n",
    "def remove_outlier(df1 , col):\n",
    "    Q1 = df1[col].quantile(0.25)\n",
    "    Q3 = df1[col].quantile(0.75)\n",
    "    IQR = Q3 - Q1\n",
    "    lower_whisker = Q1-1.5*IQR\n",
    "    upper_whisker = Q3+1.5*IQR\n",
    "    df1[col] = np.clip(df1[col] , lower_whisker , upper_whisker)\n",
    "    return df1\n",
    "\n",
    "def treat_outliers_all(df1 , col_list):\n",
    "    for c in col_list:\n",
    "        df1 = remove_outlier(df1 , c)\n",
    "    return df1\n",
    "\n",
    "# Assuming that 'df' is your DataFrame and 'df.columns' is the list of columns in your DataFrame\n",
    "df = treat_outliers_all(df , df.columns)\n",
    "\n",
    "# Plotting boxplots for all columns in the DataFrame\n",
    "df.plot(kind = \"box\", subplots = True, layout = (7,2), figsize=(15,20))"
   ]
  },
  {
   "cell_type": "markdown",
   "id": "caf3d6ec",
   "metadata": {},
   "source": [
    "### Function to find Corrrlation"
   ]
  },
  {
   "cell_type": "code",
   "execution_count": 20,
   "id": "9d141be8",
   "metadata": {},
   "outputs": [
    {
     "data": {
      "text/html": [
       "<style type=\"text/css\">\n",
       "#T_19558_row0_col0, #T_19558_row1_col1, #T_19558_row2_col2, #T_19558_row3_col3, #T_19558_row4_col4, #T_19558_row5_col5, #T_19558_row6_col6, #T_19558_row7_col7, #T_19558_row8_col8, #T_19558_row9_col9, #T_19558_row10_col10, #T_19558_row11_col11, #T_19558_row12_col12 {\n",
       "  background-color: #00441b;\n",
       "  color: #f1f1f1;\n",
       "}\n",
       "#T_19558_row0_col1 {\n",
       "  background-color: #dbf2f2;\n",
       "  color: #000000;\n",
       "}\n",
       "#T_19558_row0_col2, #T_19558_row0_col4, #T_19558_row0_col7, #T_19558_row1_col7, #T_19558_row4_col0, #T_19558_row5_col6, #T_19558_row6_col5, #T_19558_row8_col3, #T_19558_row8_col12, #T_19558_row10_col9, #T_19558_row10_col11, #T_19558_row11_col10, #T_19558_row12_col1, #T_19558_row12_col8 {\n",
       "  background-color: #f7fcfd;\n",
       "  color: #000000;\n",
       "}\n",
       "#T_19558_row0_col3 {\n",
       "  background-color: #ccece6;\n",
       "  color: #000000;\n",
       "}\n",
       "#T_19558_row0_col5, #T_19558_row1_col4, #T_19558_row6_col11, #T_19558_row8_col5 {\n",
       "  background-color: #dbf1f1;\n",
       "  color: #000000;\n",
       "}\n",
       "#T_19558_row0_col6, #T_19558_row2_col6, #T_19558_row4_col6, #T_19558_row7_col6, #T_19558_row9_col5 {\n",
       "  background-color: #ddf2f3;\n",
       "  color: #000000;\n",
       "}\n",
       "#T_19558_row0_col8, #T_19558_row1_col12, #T_19558_row6_col10, #T_19558_row11_col3, #T_19558_row12_col2 {\n",
       "  background-color: #eff9fb;\n",
       "  color: #000000;\n",
       "}\n",
       "#T_19558_row0_col9, #T_19558_row5_col9, #T_19558_row8_col9, #T_19558_row9_col1, #T_19558_row10_col1, #T_19558_row12_col9 {\n",
       "  background-color: #f4fbfc;\n",
       "  color: #000000;\n",
       "}\n",
       "#T_19558_row0_col10, #T_19558_row8_col4 {\n",
       "  background-color: #e4f5f8;\n",
       "  color: #000000;\n",
       "}\n",
       "#T_19558_row0_col11 {\n",
       "  background-color: #d1eee9;\n",
       "  color: #000000;\n",
       "}\n",
       "#T_19558_row0_col12, #T_19558_row1_col8, #T_19558_row2_col3, #T_19558_row2_col11, #T_19558_row8_col0, #T_19558_row9_col11 {\n",
       "  background-color: #eaf7fa;\n",
       "  color: #000000;\n",
       "}\n",
       "#T_19558_row1_col0 {\n",
       "  background-color: #cdece6;\n",
       "  color: #000000;\n",
       "}\n",
       "#T_19558_row1_col2 {\n",
       "  background-color: #aadfd3;\n",
       "  color: #000000;\n",
       "}\n",
       "#T_19558_row1_col3 {\n",
       "  background-color: #7acbb3;\n",
       "  color: #000000;\n",
       "}\n",
       "#T_19558_row1_col5, #T_19558_row1_col6, #T_19558_row2_col5, #T_19558_row8_col6 {\n",
       "  background-color: #e0f3f5;\n",
       "  color: #000000;\n",
       "}\n",
       "#T_19558_row1_col9, #T_19558_row2_col0, #T_19558_row2_col9, #T_19558_row3_col9, #T_19558_row4_col9, #T_19558_row6_col9 {\n",
       "  background-color: #f5fbfd;\n",
       "  color: #000000;\n",
       "}\n",
       "#T_19558_row1_col10, #T_19558_row2_col8, #T_19558_row2_col10, #T_19558_row3_col10, #T_19558_row4_col10, #T_19558_row5_col4, #T_19558_row6_col2, #T_19558_row7_col0, #T_19558_row7_col4, #T_19558_row7_col10, #T_19558_row8_col11, #T_19558_row9_col4, #T_19558_row11_col4, #T_19558_row12_col11 {\n",
       "  background-color: #e8f6fa;\n",
       "  color: #000000;\n",
       "}\n",
       "#T_19558_row1_col11, #T_19558_row3_col11, #T_19558_row5_col10, #T_19558_row6_col0, #T_19558_row6_col4, #T_19558_row9_col0, #T_19558_row10_col4 {\n",
       "  background-color: #e7f6f9;\n",
       "  color: #000000;\n",
       "}\n",
       "#T_19558_row2_col1 {\n",
       "  background-color: #c2e8e0;\n",
       "  color: #000000;\n",
       "}\n",
       "#T_19558_row2_col4 {\n",
       "  background-color: #52b78b;\n",
       "  color: #f1f1f1;\n",
       "}\n",
       "#T_19558_row2_col7, #T_19558_row3_col7, #T_19558_row4_col7, #T_19558_row5_col1, #T_19558_row5_col7, #T_19558_row6_col1, #T_19558_row6_col7, #T_19558_row8_col7, #T_19558_row9_col7, #T_19558_row10_col7, #T_19558_row11_col7, #T_19558_row11_col9, #T_19558_row12_col7 {\n",
       "  background-color: #f6fcfd;\n",
       "  color: #000000;\n",
       "}\n",
       "#T_19558_row2_col12, #T_19558_row6_col3, #T_19558_row7_col3, #T_19558_row9_col3, #T_19558_row10_col3, #T_19558_row12_col3 {\n",
       "  background-color: #f1fafc;\n",
       "  color: #000000;\n",
       "}\n",
       "#T_19558_row3_col0 {\n",
       "  background-color: #b5e3d9;\n",
       "  color: #000000;\n",
       "}\n",
       "#T_19558_row3_col1 {\n",
       "  background-color: #7fcdb6;\n",
       "  color: #000000;\n",
       "}\n",
       "#T_19558_row3_col2 {\n",
       "  background-color: #e2f4f7;\n",
       "  color: #000000;\n",
       "}\n",
       "#T_19558_row3_col4 {\n",
       "  background-color: #acdfd4;\n",
       "  color: #000000;\n",
       "}\n",
       "#T_19558_row3_col5, #T_19558_row11_col5 {\n",
       "  background-color: #dff3f5;\n",
       "  color: #000000;\n",
       "}\n",
       "#T_19558_row3_col6, #T_19558_row4_col5 {\n",
       "  background-color: #dff3f4;\n",
       "  color: #000000;\n",
       "}\n",
       "#T_19558_row3_col8, #T_19558_row5_col3, #T_19558_row8_col1, #T_19558_row11_col1 {\n",
       "  background-color: #f2fafc;\n",
       "  color: #000000;\n",
       "}\n",
       "#T_19558_row3_col12, #T_19558_row7_col12, #T_19558_row10_col8 {\n",
       "  background-color: #ecf8fb;\n",
       "  color: #000000;\n",
       "}\n",
       "#T_19558_row4_col1, #T_19558_row4_col8, #T_19558_row4_col11, #T_19558_row5_col8, #T_19558_row5_col11, #T_19558_row7_col2, #T_19558_row7_col11, #T_19558_row8_col10, #T_19558_row9_col2, #T_19558_row10_col2, #T_19558_row12_col10 {\n",
       "  background-color: #e9f7fa;\n",
       "  color: #000000;\n",
       "}\n",
       "#T_19558_row4_col2 {\n",
       "  background-color: #53b88c;\n",
       "  color: #f1f1f1;\n",
       "}\n",
       "#T_19558_row4_col3 {\n",
       "  background-color: #c0e7df;\n",
       "  color: #000000;\n",
       "}\n",
       "#T_19558_row4_col12 {\n",
       "  background-color: #f0f9fb;\n",
       "  color: #000000;\n",
       "}\n",
       "#T_19558_row5_col0, #T_19558_row5_col12, #T_19558_row8_col2, #T_19558_row12_col0 {\n",
       "  background-color: #e5f5f9;\n",
       "  color: #000000;\n",
       "}\n",
       "#T_19558_row5_col2, #T_19558_row9_col8, #T_19558_row9_col10, #T_19558_row9_col12, #T_19558_row11_col2, #T_19558_row11_col12, #T_19558_row12_col4 {\n",
       "  background-color: #ebf7fa;\n",
       "  color: #000000;\n",
       "}\n",
       "#T_19558_row6_col8, #T_19558_row10_col12 {\n",
       "  background-color: #edf8fb;\n",
       "  color: #000000;\n",
       "}\n",
       "#T_19558_row6_col12, #T_19558_row7_col8, #T_19558_row11_col8 {\n",
       "  background-color: #ecf8fa;\n",
       "  color: #000000;\n",
       "}\n",
       "#T_19558_row7_col1, #T_19558_row7_col9 {\n",
       "  background-color: #f5fbfc;\n",
       "  color: #000000;\n",
       "}\n",
       "#T_19558_row7_col5, #T_19558_row9_col6, #T_19558_row12_col6 {\n",
       "  background-color: #def2f4;\n",
       "  color: #000000;\n",
       "}\n",
       "#T_19558_row10_col0 {\n",
       "  background-color: #e3f4f7;\n",
       "  color: #000000;\n",
       "}\n",
       "#T_19558_row10_col5 {\n",
       "  background-color: #dcf2f2;\n",
       "  color: #000000;\n",
       "}\n",
       "#T_19558_row10_col6 {\n",
       "  background-color: #e6f5f9;\n",
       "  color: #000000;\n",
       "}\n",
       "#T_19558_row11_col0 {\n",
       "  background-color: #cfede8;\n",
       "  color: #000000;\n",
       "}\n",
       "#T_19558_row11_col6 {\n",
       "  background-color: #d0ede9;\n",
       "  color: #000000;\n",
       "}\n",
       "#T_19558_row12_col5 {\n",
       "  background-color: #d5efed;\n",
       "  color: #000000;\n",
       "}\n",
       "</style>\n",
       "<table id=\"T_19558\">\n",
       "  <thead>\n",
       "    <tr>\n",
       "      <th class=\"blank level0\" >&nbsp;</th>\n",
       "      <th id=\"T_19558_level0_col0\" class=\"col_heading level0 col0\" >fare_amount</th>\n",
       "      <th id=\"T_19558_level0_col1\" class=\"col_heading level0 col1\" >pickup_longitude</th>\n",
       "      <th id=\"T_19558_level0_col2\" class=\"col_heading level0 col2\" >pickup_latitude</th>\n",
       "      <th id=\"T_19558_level0_col3\" class=\"col_heading level0 col3\" >dropoff_longitude</th>\n",
       "      <th id=\"T_19558_level0_col4\" class=\"col_heading level0 col4\" >dropoff_latitude</th>\n",
       "      <th id=\"T_19558_level0_col5\" class=\"col_heading level0 col5\" >passenger_count</th>\n",
       "      <th id=\"T_19558_level0_col6\" class=\"col_heading level0 col6\" >second</th>\n",
       "      <th id=\"T_19558_level0_col7\" class=\"col_heading level0 col7\" >minute</th>\n",
       "      <th id=\"T_19558_level0_col8\" class=\"col_heading level0 col8\" >hour</th>\n",
       "      <th id=\"T_19558_level0_col9\" class=\"col_heading level0 col9\" >day</th>\n",
       "      <th id=\"T_19558_level0_col10\" class=\"col_heading level0 col10\" >month</th>\n",
       "      <th id=\"T_19558_level0_col11\" class=\"col_heading level0 col11\" >year</th>\n",
       "      <th id=\"T_19558_level0_col12\" class=\"col_heading level0 col12\" >dayofweek</th>\n",
       "    </tr>\n",
       "  </thead>\n",
       "  <tbody>\n",
       "    <tr>\n",
       "      <th id=\"T_19558_level0_row0\" class=\"row_heading level0 row0\" >fare_amount</th>\n",
       "      <td id=\"T_19558_row0_col0\" class=\"data row0 col0\" >1.000000</td>\n",
       "      <td id=\"T_19558_row0_col1\" class=\"data row0 col1\" >0.154069</td>\n",
       "      <td id=\"T_19558_row0_col2\" class=\"data row0 col2\" >-0.110842</td>\n",
       "      <td id=\"T_19558_row0_col3\" class=\"data row0 col3\" >0.218675</td>\n",
       "      <td id=\"T_19558_row0_col4\" class=\"data row0 col4\" >-0.125898</td>\n",
       "      <td id=\"T_19558_row0_col5\" class=\"data row0 col5\" >0.015778</td>\n",
       "      <td id=\"T_19558_row0_col6\" class=\"data row0 col6\" >0.002976</td>\n",
       "      <td id=\"T_19558_row0_col7\" class=\"data row0 col7\" >-0.009246</td>\n",
       "      <td id=\"T_19558_row0_col8\" class=\"data row0 col8\" >-0.023623</td>\n",
       "      <td id=\"T_19558_row0_col9\" class=\"data row0 col9\" >0.004534</td>\n",
       "      <td id=\"T_19558_row0_col10\" class=\"data row0 col10\" >0.030817</td>\n",
       "      <td id=\"T_19558_row0_col11\" class=\"data row0 col11\" >0.141277</td>\n",
       "      <td id=\"T_19558_row0_col12\" class=\"data row0 col12\" >0.013652</td>\n",
       "    </tr>\n",
       "    <tr>\n",
       "      <th id=\"T_19558_level0_row1\" class=\"row_heading level0 row1\" >pickup_longitude</th>\n",
       "      <td id=\"T_19558_row1_col0\" class=\"data row1 col0\" >0.154069</td>\n",
       "      <td id=\"T_19558_row1_col1\" class=\"data row1 col1\" >1.000000</td>\n",
       "      <td id=\"T_19558_row1_col2\" class=\"data row1 col2\" >0.259497</td>\n",
       "      <td id=\"T_19558_row1_col3\" class=\"data row1 col3\" >0.425619</td>\n",
       "      <td id=\"T_19558_row1_col4\" class=\"data row1 col4\" >0.073290</td>\n",
       "      <td id=\"T_19558_row1_col5\" class=\"data row1 col5\" >-0.013213</td>\n",
       "      <td id=\"T_19558_row1_col6\" class=\"data row1 col6\" >-0.013308</td>\n",
       "      <td id=\"T_19558_row1_col7\" class=\"data row1 col7\" >-0.005792</td>\n",
       "      <td id=\"T_19558_row1_col8\" class=\"data row1 col8\" >0.011579</td>\n",
       "      <td id=\"T_19558_row1_col9\" class=\"data row1 col9\" >-0.003204</td>\n",
       "      <td id=\"T_19558_row1_col10\" class=\"data row1 col10\" >0.001169</td>\n",
       "      <td id=\"T_19558_row1_col11\" class=\"data row1 col11\" >0.010198</td>\n",
       "      <td id=\"T_19558_row1_col12\" class=\"data row1 col12\" >-0.024652</td>\n",
       "    </tr>\n",
       "    <tr>\n",
       "      <th id=\"T_19558_level0_row2\" class=\"row_heading level0 row2\" >pickup_latitude</th>\n",
       "      <td id=\"T_19558_row2_col0\" class=\"data row2 col0\" >-0.110842</td>\n",
       "      <td id=\"T_19558_row2_col1\" class=\"data row2 col1\" >0.259497</td>\n",
       "      <td id=\"T_19558_row2_col2\" class=\"data row2 col2\" >1.000000</td>\n",
       "      <td id=\"T_19558_row2_col3\" class=\"data row2 col3\" >0.048889</td>\n",
       "      <td id=\"T_19558_row2_col4\" class=\"data row2 col4\" >0.515714</td>\n",
       "      <td id=\"T_19558_row2_col5\" class=\"data row2 col5\" >-0.012889</td>\n",
       "      <td id=\"T_19558_row2_col6\" class=\"data row2 col6\" >0.006061</td>\n",
       "      <td id=\"T_19558_row2_col7\" class=\"data row2 col7\" >-0.003454</td>\n",
       "      <td id=\"T_19558_row2_col8\" class=\"data row2 col8\" >0.029681</td>\n",
       "      <td id=\"T_19558_row2_col9\" class=\"data row2 col9\" >-0.001553</td>\n",
       "      <td id=\"T_19558_row2_col10\" class=\"data row2 col10\" >0.001562</td>\n",
       "      <td id=\"T_19558_row2_col11\" class=\"data row2 col11\" >-0.014243</td>\n",
       "      <td id=\"T_19558_row2_col12\" class=\"data row2 col12\" >-0.042310</td>\n",
       "    </tr>\n",
       "    <tr>\n",
       "      <th id=\"T_19558_level0_row3\" class=\"row_heading level0 row3\" >dropoff_longitude</th>\n",
       "      <td id=\"T_19558_row3_col0\" class=\"data row3 col0\" >0.218675</td>\n",
       "      <td id=\"T_19558_row3_col1\" class=\"data row3 col1\" >0.425619</td>\n",
       "      <td id=\"T_19558_row3_col2\" class=\"data row3 col2\" >0.048889</td>\n",
       "      <td id=\"T_19558_row3_col3\" class=\"data row3 col3\" >1.000000</td>\n",
       "      <td id=\"T_19558_row3_col4\" class=\"data row3 col4\" >0.245667</td>\n",
       "      <td id=\"T_19558_row3_col5\" class=\"data row3 col5\" >-0.009303</td>\n",
       "      <td id=\"T_19558_row3_col6\" class=\"data row3 col6\" >-0.005254</td>\n",
       "      <td id=\"T_19558_row3_col7\" class=\"data row3 col7\" >-0.004847</td>\n",
       "      <td id=\"T_19558_row3_col8\" class=\"data row3 col8\" >-0.046558</td>\n",
       "      <td id=\"T_19558_row3_col9\" class=\"data row3 col9\" >-0.004007</td>\n",
       "      <td id=\"T_19558_row3_col10\" class=\"data row3 col10\" >0.002391</td>\n",
       "      <td id=\"T_19558_row3_col11\" class=\"data row3 col11\" >0.011346</td>\n",
       "      <td id=\"T_19558_row3_col12\" class=\"data row3 col12\" >-0.003336</td>\n",
       "    </tr>\n",
       "    <tr>\n",
       "      <th id=\"T_19558_level0_row4\" class=\"row_heading level0 row4\" >dropoff_latitude</th>\n",
       "      <td id=\"T_19558_row4_col0\" class=\"data row4 col0\" >-0.125898</td>\n",
       "      <td id=\"T_19558_row4_col1\" class=\"data row4 col1\" >0.073290</td>\n",
       "      <td id=\"T_19558_row4_col2\" class=\"data row4 col2\" >0.515714</td>\n",
       "      <td id=\"T_19558_row4_col3\" class=\"data row4 col3\" >0.245667</td>\n",
       "      <td id=\"T_19558_row4_col4\" class=\"data row4 col4\" >1.000000</td>\n",
       "      <td id=\"T_19558_row4_col5\" class=\"data row4 col5\" >-0.006308</td>\n",
       "      <td id=\"T_19558_row4_col6\" class=\"data row4 col6\" >0.005151</td>\n",
       "      <td id=\"T_19558_row4_col7\" class=\"data row4 col7\" >-0.003175</td>\n",
       "      <td id=\"T_19558_row4_col8\" class=\"data row4 col8\" >0.019783</td>\n",
       "      <td id=\"T_19558_row4_col9\" class=\"data row4 col9\" >-0.003479</td>\n",
       "      <td id=\"T_19558_row4_col10\" class=\"data row4 col10\" >-0.001193</td>\n",
       "      <td id=\"T_19558_row4_col11\" class=\"data row4 col11\" >-0.009603</td>\n",
       "      <td id=\"T_19558_row4_col12\" class=\"data row4 col12\" >-0.031919</td>\n",
       "    </tr>\n",
       "    <tr>\n",
       "      <th id=\"T_19558_level0_row5\" class=\"row_heading level0 row5\" >passenger_count</th>\n",
       "      <td id=\"T_19558_row5_col0\" class=\"data row5 col0\" >0.015778</td>\n",
       "      <td id=\"T_19558_row5_col1\" class=\"data row5 col1\" >-0.013213</td>\n",
       "      <td id=\"T_19558_row5_col2\" class=\"data row5 col2\" >-0.012889</td>\n",
       "      <td id=\"T_19558_row5_col3\" class=\"data row5 col3\" >-0.009303</td>\n",
       "      <td id=\"T_19558_row5_col4\" class=\"data row5 col4\" >-0.006308</td>\n",
       "      <td id=\"T_19558_row5_col5\" class=\"data row5 col5\" >1.000000</td>\n",
       "      <td id=\"T_19558_row5_col6\" class=\"data row5 col6\" >-0.194292</td>\n",
       "      <td id=\"T_19558_row5_col7\" class=\"data row5 col7\" >0.001115</td>\n",
       "      <td id=\"T_19558_row5_col8\" class=\"data row5 col8\" >0.020274</td>\n",
       "      <td id=\"T_19558_row5_col9\" class=\"data row5 col9\" >0.002712</td>\n",
       "      <td id=\"T_19558_row5_col10\" class=\"data row5 col10\" >0.010351</td>\n",
       "      <td id=\"T_19558_row5_col11\" class=\"data row5 col11\" >-0.009749</td>\n",
       "      <td id=\"T_19558_row5_col12\" class=\"data row5 col12\" >0.048550</td>\n",
       "    </tr>\n",
       "    <tr>\n",
       "      <th id=\"T_19558_level0_row6\" class=\"row_heading level0 row6\" >second</th>\n",
       "      <td id=\"T_19558_row6_col0\" class=\"data row6 col0\" >0.002976</td>\n",
       "      <td id=\"T_19558_row6_col1\" class=\"data row6 col1\" >-0.013308</td>\n",
       "      <td id=\"T_19558_row6_col2\" class=\"data row6 col2\" >0.006061</td>\n",
       "      <td id=\"T_19558_row6_col3\" class=\"data row6 col3\" >-0.005254</td>\n",
       "      <td id=\"T_19558_row6_col4\" class=\"data row6 col4\" >0.005151</td>\n",
       "      <td id=\"T_19558_row6_col5\" class=\"data row6 col5\" >-0.194292</td>\n",
       "      <td id=\"T_19558_row6_col6\" class=\"data row6 col6\" >1.000000</td>\n",
       "      <td id=\"T_19558_row6_col7\" class=\"data row6 col7\" >0.001987</td>\n",
       "      <td id=\"T_19558_row6_col8\" class=\"data row6 col8\" >-0.013240</td>\n",
       "      <td id=\"T_19558_row6_col9\" class=\"data row6 col9\" >-0.002107</td>\n",
       "      <td id=\"T_19558_row6_col10\" class=\"data row6 col10\" >-0.049937</td>\n",
       "      <td id=\"T_19558_row6_col11\" class=\"data row6 col11\" >0.083345</td>\n",
       "      <td id=\"T_19558_row6_col12\" class=\"data row6 col12\" >-0.000136</td>\n",
       "    </tr>\n",
       "    <tr>\n",
       "      <th id=\"T_19558_level0_row7\" class=\"row_heading level0 row7\" >minute</th>\n",
       "      <td id=\"T_19558_row7_col0\" class=\"data row7 col0\" >-0.009246</td>\n",
       "      <td id=\"T_19558_row7_col1\" class=\"data row7 col1\" >-0.005792</td>\n",
       "      <td id=\"T_19558_row7_col2\" class=\"data row7 col2\" >-0.003454</td>\n",
       "      <td id=\"T_19558_row7_col3\" class=\"data row7 col3\" >-0.004847</td>\n",
       "      <td id=\"T_19558_row7_col4\" class=\"data row7 col4\" >-0.003175</td>\n",
       "      <td id=\"T_19558_row7_col5\" class=\"data row7 col5\" >0.001115</td>\n",
       "      <td id=\"T_19558_row7_col6\" class=\"data row7 col6\" >0.001987</td>\n",
       "      <td id=\"T_19558_row7_col7\" class=\"data row7 col7\" >1.000000</td>\n",
       "      <td id=\"T_19558_row7_col8\" class=\"data row7 col8\" >0.001138</td>\n",
       "      <td id=\"T_19558_row7_col9\" class=\"data row7 col9\" >-0.001217</td>\n",
       "      <td id=\"T_19558_row7_col10\" class=\"data row7 col10\" >-0.001485</td>\n",
       "      <td id=\"T_19558_row7_col11\" class=\"data row7 col11\" >-0.002805</td>\n",
       "      <td id=\"T_19558_row7_col12\" class=\"data row7 col12\" >-0.002328</td>\n",
       "    </tr>\n",
       "    <tr>\n",
       "      <th id=\"T_19558_level0_row8\" class=\"row_heading level0 row8\" >hour</th>\n",
       "      <td id=\"T_19558_row8_col0\" class=\"data row8 col0\" >-0.023623</td>\n",
       "      <td id=\"T_19558_row8_col1\" class=\"data row8 col1\" >0.011579</td>\n",
       "      <td id=\"T_19558_row8_col2\" class=\"data row8 col2\" >0.029681</td>\n",
       "      <td id=\"T_19558_row8_col3\" class=\"data row8 col3\" >-0.046558</td>\n",
       "      <td id=\"T_19558_row8_col4\" class=\"data row8 col4\" >0.019783</td>\n",
       "      <td id=\"T_19558_row8_col5\" class=\"data row8 col5\" >0.020274</td>\n",
       "      <td id=\"T_19558_row8_col6\" class=\"data row8 col6\" >-0.013240</td>\n",
       "      <td id=\"T_19558_row8_col7\" class=\"data row8 col7\" >0.001138</td>\n",
       "      <td id=\"T_19558_row8_col8\" class=\"data row8 col8\" >1.000000</td>\n",
       "      <td id=\"T_19558_row8_col9\" class=\"data row8 col9\" >0.004677</td>\n",
       "      <td id=\"T_19558_row8_col10\" class=\"data row8 col10\" >-0.003926</td>\n",
       "      <td id=\"T_19558_row8_col11\" class=\"data row8 col11\" >0.002156</td>\n",
       "      <td id=\"T_19558_row8_col12\" class=\"data row8 col12\" >-0.086947</td>\n",
       "    </tr>\n",
       "    <tr>\n",
       "      <th id=\"T_19558_level0_row9\" class=\"row_heading level0 row9\" >day</th>\n",
       "      <td id=\"T_19558_row9_col0\" class=\"data row9 col0\" >0.004534</td>\n",
       "      <td id=\"T_19558_row9_col1\" class=\"data row9 col1\" >-0.003204</td>\n",
       "      <td id=\"T_19558_row9_col2\" class=\"data row9 col2\" >-0.001553</td>\n",
       "      <td id=\"T_19558_row9_col3\" class=\"data row9 col3\" >-0.004007</td>\n",
       "      <td id=\"T_19558_row9_col4\" class=\"data row9 col4\" >-0.003479</td>\n",
       "      <td id=\"T_19558_row9_col5\" class=\"data row9 col5\" >0.002712</td>\n",
       "      <td id=\"T_19558_row9_col6\" class=\"data row9 col6\" >-0.002107</td>\n",
       "      <td id=\"T_19558_row9_col7\" class=\"data row9 col7\" >-0.001217</td>\n",
       "      <td id=\"T_19558_row9_col8\" class=\"data row9 col8\" >0.004677</td>\n",
       "      <td id=\"T_19558_row9_col9\" class=\"data row9 col9\" >1.000000</td>\n",
       "      <td id=\"T_19558_row9_col10\" class=\"data row9 col10\" >-0.017360</td>\n",
       "      <td id=\"T_19558_row9_col11\" class=\"data row9 col11\" >-0.012170</td>\n",
       "      <td id=\"T_19558_row9_col12\" class=\"data row9 col12\" >0.005617</td>\n",
       "    </tr>\n",
       "    <tr>\n",
       "      <th id=\"T_19558_level0_row10\" class=\"row_heading level0 row10\" >month</th>\n",
       "      <td id=\"T_19558_row10_col0\" class=\"data row10 col0\" >0.030817</td>\n",
       "      <td id=\"T_19558_row10_col1\" class=\"data row10 col1\" >0.001169</td>\n",
       "      <td id=\"T_19558_row10_col2\" class=\"data row10 col2\" >0.001562</td>\n",
       "      <td id=\"T_19558_row10_col3\" class=\"data row10 col3\" >0.002391</td>\n",
       "      <td id=\"T_19558_row10_col4\" class=\"data row10 col4\" >-0.001193</td>\n",
       "      <td id=\"T_19558_row10_col5\" class=\"data row10 col5\" >0.010351</td>\n",
       "      <td id=\"T_19558_row10_col6\" class=\"data row10 col6\" >-0.049937</td>\n",
       "      <td id=\"T_19558_row10_col7\" class=\"data row10 col7\" >-0.001485</td>\n",
       "      <td id=\"T_19558_row10_col8\" class=\"data row10 col8\" >-0.003926</td>\n",
       "      <td id=\"T_19558_row10_col9\" class=\"data row10 col9\" >-0.017360</td>\n",
       "      <td id=\"T_19558_row10_col10\" class=\"data row10 col10\" >1.000000</td>\n",
       "      <td id=\"T_19558_row10_col11\" class=\"data row10 col11\" >-0.115859</td>\n",
       "      <td id=\"T_19558_row10_col12\" class=\"data row10 col12\" >-0.008786</td>\n",
       "    </tr>\n",
       "    <tr>\n",
       "      <th id=\"T_19558_level0_row11\" class=\"row_heading level0 row11\" >year</th>\n",
       "      <td id=\"T_19558_row11_col0\" class=\"data row11 col0\" >0.141277</td>\n",
       "      <td id=\"T_19558_row11_col1\" class=\"data row11 col1\" >0.010198</td>\n",
       "      <td id=\"T_19558_row11_col2\" class=\"data row11 col2\" >-0.014243</td>\n",
       "      <td id=\"T_19558_row11_col3\" class=\"data row11 col3\" >0.011346</td>\n",
       "      <td id=\"T_19558_row11_col4\" class=\"data row11 col4\" >-0.009603</td>\n",
       "      <td id=\"T_19558_row11_col5\" class=\"data row11 col5\" >-0.009749</td>\n",
       "      <td id=\"T_19558_row11_col6\" class=\"data row11 col6\" >0.083345</td>\n",
       "      <td id=\"T_19558_row11_col7\" class=\"data row11 col7\" >-0.002805</td>\n",
       "      <td id=\"T_19558_row11_col8\" class=\"data row11 col8\" >0.002156</td>\n",
       "      <td id=\"T_19558_row11_col9\" class=\"data row11 col9\" >-0.012170</td>\n",
       "      <td id=\"T_19558_row11_col10\" class=\"data row11 col10\" >-0.115859</td>\n",
       "      <td id=\"T_19558_row11_col11\" class=\"data row11 col11\" >1.000000</td>\n",
       "      <td id=\"T_19558_row11_col12\" class=\"data row11 col12\" >0.006113</td>\n",
       "    </tr>\n",
       "    <tr>\n",
       "      <th id=\"T_19558_level0_row12\" class=\"row_heading level0 row12\" >dayofweek</th>\n",
       "      <td id=\"T_19558_row12_col0\" class=\"data row12 col0\" >0.013652</td>\n",
       "      <td id=\"T_19558_row12_col1\" class=\"data row12 col1\" >-0.024652</td>\n",
       "      <td id=\"T_19558_row12_col2\" class=\"data row12 col2\" >-0.042310</td>\n",
       "      <td id=\"T_19558_row12_col3\" class=\"data row12 col3\" >-0.003336</td>\n",
       "      <td id=\"T_19558_row12_col4\" class=\"data row12 col4\" >-0.031919</td>\n",
       "      <td id=\"T_19558_row12_col5\" class=\"data row12 col5\" >0.048550</td>\n",
       "      <td id=\"T_19558_row12_col6\" class=\"data row12 col6\" >-0.000136</td>\n",
       "      <td id=\"T_19558_row12_col7\" class=\"data row12 col7\" >-0.002328</td>\n",
       "      <td id=\"T_19558_row12_col8\" class=\"data row12 col8\" >-0.086947</td>\n",
       "      <td id=\"T_19558_row12_col9\" class=\"data row12 col9\" >0.005617</td>\n",
       "      <td id=\"T_19558_row12_col10\" class=\"data row12 col10\" >-0.008786</td>\n",
       "      <td id=\"T_19558_row12_col11\" class=\"data row12 col11\" >0.006113</td>\n",
       "      <td id=\"T_19558_row12_col12\" class=\"data row12 col12\" >1.000000</td>\n",
       "    </tr>\n",
       "  </tbody>\n",
       "</table>\n"
      ],
      "text/plain": [
       "<pandas.io.formats.style.Styler at 0x28e891df990>"
      ]
     },
     "execution_count": 20,
     "metadata": {},
     "output_type": "execute_result"
    }
   ],
   "source": [
    "corr = df.corr()\n",
    "\n",
    "corr.style.background_gradient(cmap='BuGn')"
   ]
  },
  {
   "cell_type": "code",
   "execution_count": 21,
   "id": "b4f40266",
   "metadata": {},
   "outputs": [
    {
     "name": "stdout",
     "output_type": "stream",
     "text": [
      "Requirement already satisfied: haversine in c:\\python311\\lib\\site-packages (2.8.0)\n",
      "Note: you may need to restart the kernel to use updated packages.\n"
     ]
    },
    {
     "name": "stderr",
     "output_type": "stream",
     "text": [
      "\n",
      "[notice] A new release of pip available: 22.3 -> 23.2.1\n",
      "[notice] To update, run: python.exe -m pip install --upgrade pip\n"
     ]
    }
   ],
   "source": [
    "pip install haversine"
   ]
  },
  {
   "cell_type": "code",
   "execution_count": 22,
   "id": "41e5db5f",
   "metadata": {},
   "outputs": [],
   "source": [
    "import haversine as hs\n",
    "\n",
    "# Initialize an empty list to store travel distances\n",
    "travel_dist = []\n",
    "\n",
    "# Iterate through the DataFrame rows to calculate distances\n",
    "for pos in range(len(df['pickup_longitude'])):\n",
    "    long1, lati1, long2, lati2 = df['pickup_longitude'][pos], df['pickup_latitude'][pos], df['dropoff_longitude'][pos], df['dropoff_latitude'][pos]\n",
    "    loc1 = (lati1, long1)\n",
    "    loc2 = (lati2, long2)\n",
    "    c = hs.haversine(loc1, loc2)\n",
    "    travel_dist.append(c)\n",
    "\n",
    "# Assign the calculated distances to a new column in the DataFrame\n",
    "df['dist_travel_km'] = travel_dist\n"
   ]
  },
  {
   "cell_type": "code",
   "execution_count": 23,
   "id": "52558dff",
   "metadata": {},
   "outputs": [
    {
     "data": {
      "text/html": [
       "<div>\n",
       "<style scoped>\n",
       "    .dataframe tbody tr th:only-of-type {\n",
       "        vertical-align: middle;\n",
       "    }\n",
       "\n",
       "    .dataframe tbody tr th {\n",
       "        vertical-align: top;\n",
       "    }\n",
       "\n",
       "    .dataframe thead th {\n",
       "        text-align: right;\n",
       "    }\n",
       "</style>\n",
       "<table border=\"1\" class=\"dataframe\">\n",
       "  <thead>\n",
       "    <tr style=\"text-align: right;\">\n",
       "      <th></th>\n",
       "      <th>fare_amount</th>\n",
       "      <th>pickup_longitude</th>\n",
       "      <th>pickup_latitude</th>\n",
       "      <th>dropoff_longitude</th>\n",
       "      <th>dropoff_latitude</th>\n",
       "      <th>passenger_count</th>\n",
       "      <th>second</th>\n",
       "      <th>minute</th>\n",
       "      <th>hour</th>\n",
       "      <th>day</th>\n",
       "      <th>month</th>\n",
       "      <th>year</th>\n",
       "      <th>dayofweek</th>\n",
       "      <th>dist_travel_km</th>\n",
       "    </tr>\n",
       "  </thead>\n",
       "  <tbody>\n",
       "    <tr>\n",
       "      <th>0</th>\n",
       "      <td>7.5</td>\n",
       "      <td>-73.999817</td>\n",
       "      <td>40.738354</td>\n",
       "      <td>-73.999512</td>\n",
       "      <td>40.723217</td>\n",
       "      <td>1.0</td>\n",
       "      <td>6</td>\n",
       "      <td>52</td>\n",
       "      <td>19</td>\n",
       "      <td>7</td>\n",
       "      <td>5</td>\n",
       "      <td>2015</td>\n",
       "      <td>3</td>\n",
       "      <td>1.683325</td>\n",
       "    </tr>\n",
       "    <tr>\n",
       "      <th>1</th>\n",
       "      <td>7.7</td>\n",
       "      <td>-73.994355</td>\n",
       "      <td>40.728225</td>\n",
       "      <td>-73.994710</td>\n",
       "      <td>40.750325</td>\n",
       "      <td>1.0</td>\n",
       "      <td>56</td>\n",
       "      <td>4</td>\n",
       "      <td>20</td>\n",
       "      <td>17</td>\n",
       "      <td>7</td>\n",
       "      <td>2009</td>\n",
       "      <td>4</td>\n",
       "      <td>2.457593</td>\n",
       "    </tr>\n",
       "    <tr>\n",
       "      <th>2</th>\n",
       "      <td>12.9</td>\n",
       "      <td>-74.005043</td>\n",
       "      <td>40.740770</td>\n",
       "      <td>-73.962565</td>\n",
       "      <td>40.772647</td>\n",
       "      <td>1.0</td>\n",
       "      <td>0</td>\n",
       "      <td>45</td>\n",
       "      <td>21</td>\n",
       "      <td>24</td>\n",
       "      <td>8</td>\n",
       "      <td>2009</td>\n",
       "      <td>0</td>\n",
       "      <td>5.036384</td>\n",
       "    </tr>\n",
       "    <tr>\n",
       "      <th>3</th>\n",
       "      <td>5.3</td>\n",
       "      <td>-73.976124</td>\n",
       "      <td>40.790844</td>\n",
       "      <td>-73.965316</td>\n",
       "      <td>40.803349</td>\n",
       "      <td>3.0</td>\n",
       "      <td>21</td>\n",
       "      <td>22</td>\n",
       "      <td>8</td>\n",
       "      <td>26</td>\n",
       "      <td>6</td>\n",
       "      <td>2009</td>\n",
       "      <td>4</td>\n",
       "      <td>1.661686</td>\n",
       "    </tr>\n",
       "    <tr>\n",
       "      <th>4</th>\n",
       "      <td>16.0</td>\n",
       "      <td>-73.929786</td>\n",
       "      <td>40.744085</td>\n",
       "      <td>-73.973082</td>\n",
       "      <td>40.761247</td>\n",
       "      <td>3.5</td>\n",
       "      <td>0</td>\n",
       "      <td>47</td>\n",
       "      <td>17</td>\n",
       "      <td>28</td>\n",
       "      <td>8</td>\n",
       "      <td>2014</td>\n",
       "      <td>3</td>\n",
       "      <td>4.116088</td>\n",
       "    </tr>\n",
       "  </tbody>\n",
       "</table>\n",
       "</div>"
      ],
      "text/plain": [
       "   fare_amount  pickup_longitude  pickup_latitude  dropoff_longitude   \n",
       "0          7.5        -73.999817        40.738354         -73.999512  \\\n",
       "1          7.7        -73.994355        40.728225         -73.994710   \n",
       "2         12.9        -74.005043        40.740770         -73.962565   \n",
       "3          5.3        -73.976124        40.790844         -73.965316   \n",
       "4         16.0        -73.929786        40.744085         -73.973082   \n",
       "\n",
       "   dropoff_latitude  passenger_count  second  minute  hour  day  month  year   \n",
       "0         40.723217              1.0       6      52    19    7      5  2015  \\\n",
       "1         40.750325              1.0      56       4    20   17      7  2009   \n",
       "2         40.772647              1.0       0      45    21   24      8  2009   \n",
       "3         40.803349              3.0      21      22     8   26      6  2009   \n",
       "4         40.761247              3.5       0      47    17   28      8  2014   \n",
       "\n",
       "   dayofweek  dist_travel_km  \n",
       "0          3        1.683325  \n",
       "1          4        2.457593  \n",
       "2          0        5.036384  \n",
       "3          4        1.661686  \n",
       "4          3        4.116088  "
      ]
     },
     "execution_count": 23,
     "metadata": {},
     "output_type": "execute_result"
    }
   ],
   "source": [
    "# Display the first few rows of the DataFrame\n",
    "df.head()"
   ]
  },
  {
   "cell_type": "code",
   "execution_count": 24,
   "id": "073e09b5",
   "metadata": {},
   "outputs": [],
   "source": [
    "#Finding inccorect latitude (Less than or greater than 90) and longitude (greater than or less than 90)\n",
    "incorrect_coordinates = df.loc[\n",
    "(df.pickup_latitude > 90) |(df.pickup_latitude < -90) |\n",
    "(df.dropoff_latitude > 90) |(df.dropoff_latitude < -90) |\n",
    "(df.pickup_longitude > 180) |(df.pickup_longitude < -180) |\n",
    "(df.dropoff_longitude > 90) |(df.dropoff_longitude < -90)\n",
    "]\n",
    "df.drop(incorrect_coordinates, inplace = True, errors = 'ignore')\n"
   ]
  },
  {
   "cell_type": "code",
   "execution_count": 25,
   "id": "a807fe8e",
   "metadata": {},
   "outputs": [
    {
     "data": {
      "text/html": [
       "<div>\n",
       "<style scoped>\n",
       "    .dataframe tbody tr th:only-of-type {\n",
       "        vertical-align: middle;\n",
       "    }\n",
       "\n",
       "    .dataframe tbody tr th {\n",
       "        vertical-align: top;\n",
       "    }\n",
       "\n",
       "    .dataframe thead th {\n",
       "        text-align: right;\n",
       "    }\n",
       "</style>\n",
       "<table border=\"1\" class=\"dataframe\">\n",
       "  <thead>\n",
       "    <tr style=\"text-align: right;\">\n",
       "      <th></th>\n",
       "      <th>fare_amount</th>\n",
       "      <th>pickup_longitude</th>\n",
       "      <th>pickup_latitude</th>\n",
       "      <th>dropoff_longitude</th>\n",
       "      <th>dropoff_latitude</th>\n",
       "      <th>passenger_count</th>\n",
       "      <th>second</th>\n",
       "      <th>minute</th>\n",
       "      <th>hour</th>\n",
       "      <th>day</th>\n",
       "      <th>month</th>\n",
       "      <th>year</th>\n",
       "      <th>dayofweek</th>\n",
       "      <th>dist_travel_km</th>\n",
       "    </tr>\n",
       "  </thead>\n",
       "  <tbody>\n",
       "    <tr>\n",
       "      <th>0</th>\n",
       "      <td>7.5</td>\n",
       "      <td>-73.999817</td>\n",
       "      <td>40.738354</td>\n",
       "      <td>-73.999512</td>\n",
       "      <td>40.723217</td>\n",
       "      <td>1.0</td>\n",
       "      <td>6</td>\n",
       "      <td>52</td>\n",
       "      <td>19</td>\n",
       "      <td>7</td>\n",
       "      <td>5</td>\n",
       "      <td>2015</td>\n",
       "      <td>3</td>\n",
       "      <td>1.683325</td>\n",
       "    </tr>\n",
       "    <tr>\n",
       "      <th>1</th>\n",
       "      <td>7.7</td>\n",
       "      <td>-73.994355</td>\n",
       "      <td>40.728225</td>\n",
       "      <td>-73.994710</td>\n",
       "      <td>40.750325</td>\n",
       "      <td>1.0</td>\n",
       "      <td>56</td>\n",
       "      <td>4</td>\n",
       "      <td>20</td>\n",
       "      <td>17</td>\n",
       "      <td>7</td>\n",
       "      <td>2009</td>\n",
       "      <td>4</td>\n",
       "      <td>2.457593</td>\n",
       "    </tr>\n",
       "    <tr>\n",
       "      <th>2</th>\n",
       "      <td>12.9</td>\n",
       "      <td>-74.005043</td>\n",
       "      <td>40.740770</td>\n",
       "      <td>-73.962565</td>\n",
       "      <td>40.772647</td>\n",
       "      <td>1.0</td>\n",
       "      <td>0</td>\n",
       "      <td>45</td>\n",
       "      <td>21</td>\n",
       "      <td>24</td>\n",
       "      <td>8</td>\n",
       "      <td>2009</td>\n",
       "      <td>0</td>\n",
       "      <td>5.036384</td>\n",
       "    </tr>\n",
       "    <tr>\n",
       "      <th>3</th>\n",
       "      <td>5.3</td>\n",
       "      <td>-73.976124</td>\n",
       "      <td>40.790844</td>\n",
       "      <td>-73.965316</td>\n",
       "      <td>40.803349</td>\n",
       "      <td>3.0</td>\n",
       "      <td>21</td>\n",
       "      <td>22</td>\n",
       "      <td>8</td>\n",
       "      <td>26</td>\n",
       "      <td>6</td>\n",
       "      <td>2009</td>\n",
       "      <td>4</td>\n",
       "      <td>1.661686</td>\n",
       "    </tr>\n",
       "    <tr>\n",
       "      <th>4</th>\n",
       "      <td>16.0</td>\n",
       "      <td>-73.929786</td>\n",
       "      <td>40.744085</td>\n",
       "      <td>-73.973082</td>\n",
       "      <td>40.761247</td>\n",
       "      <td>3.5</td>\n",
       "      <td>0</td>\n",
       "      <td>47</td>\n",
       "      <td>17</td>\n",
       "      <td>28</td>\n",
       "      <td>8</td>\n",
       "      <td>2014</td>\n",
       "      <td>3</td>\n",
       "      <td>4.116088</td>\n",
       "    </tr>\n",
       "  </tbody>\n",
       "</table>\n",
       "</div>"
      ],
      "text/plain": [
       "   fare_amount  pickup_longitude  pickup_latitude  dropoff_longitude   \n",
       "0          7.5        -73.999817        40.738354         -73.999512  \\\n",
       "1          7.7        -73.994355        40.728225         -73.994710   \n",
       "2         12.9        -74.005043        40.740770         -73.962565   \n",
       "3          5.3        -73.976124        40.790844         -73.965316   \n",
       "4         16.0        -73.929786        40.744085         -73.973082   \n",
       "\n",
       "   dropoff_latitude  passenger_count  second  minute  hour  day  month  year   \n",
       "0         40.723217              1.0       6      52    19    7      5  2015  \\\n",
       "1         40.750325              1.0      56       4    20   17      7  2009   \n",
       "2         40.772647              1.0       0      45    21   24      8  2009   \n",
       "3         40.803349              3.0      21      22     8   26      6  2009   \n",
       "4         40.761247              3.5       0      47    17   28      8  2014   \n",
       "\n",
       "   dayofweek  dist_travel_km  \n",
       "0          3        1.683325  \n",
       "1          4        2.457593  \n",
       "2          0        5.036384  \n",
       "3          4        1.661686  \n",
       "4          3        4.116088  "
      ]
     },
     "execution_count": 25,
     "metadata": {},
     "output_type": "execute_result"
    }
   ],
   "source": [
    "df.head()"
   ]
  },
  {
   "cell_type": "markdown",
   "id": "58a62289",
   "metadata": {},
   "source": [
    "### Dividing the dataset into features and target values"
   ]
  },
  {
   "cell_type": "code",
   "execution_count": 26,
   "id": "75c9dc83",
   "metadata": {},
   "outputs": [],
   "source": [
    "x = df[['pickup_longitude','pickup_latitude','dropoff_longitude','dropoff_latitude']]\n",
    "y = df['fare_amount']"
   ]
  },
  {
   "cell_type": "markdown",
   "id": "6245742f",
   "metadata": {},
   "source": [
    "### Dividing the dataset into training and testing "
   ]
  },
  {
   "cell_type": "code",
   "execution_count": 27,
   "id": "54afd80b",
   "metadata": {},
   "outputs": [],
   "source": [
    "from sklearn.model_selection import train_test_split\n",
    "X_train,X_test,y_train,y_test = train_test_split(x,y,test_size = 0.33)\n"
   ]
  },
  {
   "cell_type": "markdown",
   "id": "108476ce",
   "metadata": {},
   "source": [
    "### Linear Regression"
   ]
  },
  {
   "cell_type": "code",
   "execution_count": 28,
   "id": "60c11288",
   "metadata": {},
   "outputs": [],
   "source": [
    "from sklearn.linear_model import LinearRegression\n",
    "regression = LinearRegression()"
   ]
  },
  {
   "cell_type": "code",
   "execution_count": 29,
   "id": "f97e2c34",
   "metadata": {},
   "outputs": [
    {
     "data": {
      "text/html": [
       "<style>#sk-container-id-1 {color: black;background-color: white;}#sk-container-id-1 pre{padding: 0;}#sk-container-id-1 div.sk-toggleable {background-color: white;}#sk-container-id-1 label.sk-toggleable__label {cursor: pointer;display: block;width: 100%;margin-bottom: 0;padding: 0.3em;box-sizing: border-box;text-align: center;}#sk-container-id-1 label.sk-toggleable__label-arrow:before {content: \"▸\";float: left;margin-right: 0.25em;color: #696969;}#sk-container-id-1 label.sk-toggleable__label-arrow:hover:before {color: black;}#sk-container-id-1 div.sk-estimator:hover label.sk-toggleable__label-arrow:before {color: black;}#sk-container-id-1 div.sk-toggleable__content {max-height: 0;max-width: 0;overflow: hidden;text-align: left;background-color: #f0f8ff;}#sk-container-id-1 div.sk-toggleable__content pre {margin: 0.2em;color: black;border-radius: 0.25em;background-color: #f0f8ff;}#sk-container-id-1 input.sk-toggleable__control:checked~div.sk-toggleable__content {max-height: 200px;max-width: 100%;overflow: auto;}#sk-container-id-1 input.sk-toggleable__control:checked~label.sk-toggleable__label-arrow:before {content: \"▾\";}#sk-container-id-1 div.sk-estimator input.sk-toggleable__control:checked~label.sk-toggleable__label {background-color: #d4ebff;}#sk-container-id-1 div.sk-label input.sk-toggleable__control:checked~label.sk-toggleable__label {background-color: #d4ebff;}#sk-container-id-1 input.sk-hidden--visually {border: 0;clip: rect(1px 1px 1px 1px);clip: rect(1px, 1px, 1px, 1px);height: 1px;margin: -1px;overflow: hidden;padding: 0;position: absolute;width: 1px;}#sk-container-id-1 div.sk-estimator {font-family: monospace;background-color: #f0f8ff;border: 1px dotted black;border-radius: 0.25em;box-sizing: border-box;margin-bottom: 0.5em;}#sk-container-id-1 div.sk-estimator:hover {background-color: #d4ebff;}#sk-container-id-1 div.sk-parallel-item::after {content: \"\";width: 100%;border-bottom: 1px solid gray;flex-grow: 1;}#sk-container-id-1 div.sk-label:hover label.sk-toggleable__label {background-color: #d4ebff;}#sk-container-id-1 div.sk-serial::before {content: \"\";position: absolute;border-left: 1px solid gray;box-sizing: border-box;top: 0;bottom: 0;left: 50%;z-index: 0;}#sk-container-id-1 div.sk-serial {display: flex;flex-direction: column;align-items: center;background-color: white;padding-right: 0.2em;padding-left: 0.2em;position: relative;}#sk-container-id-1 div.sk-item {position: relative;z-index: 1;}#sk-container-id-1 div.sk-parallel {display: flex;align-items: stretch;justify-content: center;background-color: white;position: relative;}#sk-container-id-1 div.sk-item::before, #sk-container-id-1 div.sk-parallel-item::before {content: \"\";position: absolute;border-left: 1px solid gray;box-sizing: border-box;top: 0;bottom: 0;left: 50%;z-index: -1;}#sk-container-id-1 div.sk-parallel-item {display: flex;flex-direction: column;z-index: 1;position: relative;background-color: white;}#sk-container-id-1 div.sk-parallel-item:first-child::after {align-self: flex-end;width: 50%;}#sk-container-id-1 div.sk-parallel-item:last-child::after {align-self: flex-start;width: 50%;}#sk-container-id-1 div.sk-parallel-item:only-child::after {width: 0;}#sk-container-id-1 div.sk-dashed-wrapped {border: 1px dashed gray;margin: 0 0.4em 0.5em 0.4em;box-sizing: border-box;padding-bottom: 0.4em;background-color: white;}#sk-container-id-1 div.sk-label label {font-family: monospace;font-weight: bold;display: inline-block;line-height: 1.2em;}#sk-container-id-1 div.sk-label-container {text-align: center;}#sk-container-id-1 div.sk-container {/* jupyter's `normalize.less` sets `[hidden] { display: none; }` but bootstrap.min.css set `[hidden] { display: none !important; }` so we also need the `!important` here to be able to override the default hidden behavior on the sphinx rendered scikit-learn.org. See: https://github.com/scikit-learn/scikit-learn/issues/21755 */display: inline-block !important;position: relative;}#sk-container-id-1 div.sk-text-repr-fallback {display: none;}</style><div id=\"sk-container-id-1\" class=\"sk-top-container\"><div class=\"sk-text-repr-fallback\"><pre>LinearRegression()</pre><b>In a Jupyter environment, please rerun this cell to show the HTML representation or trust the notebook. <br />On GitHub, the HTML representation is unable to render, please try loading this page with nbviewer.org.</b></div><div class=\"sk-container\" hidden><div class=\"sk-item\"><div class=\"sk-estimator sk-toggleable\"><input class=\"sk-toggleable__control sk-hidden--visually\" id=\"sk-estimator-id-1\" type=\"checkbox\" checked><label for=\"sk-estimator-id-1\" class=\"sk-toggleable__label sk-toggleable__label-arrow\">LinearRegression</label><div class=\"sk-toggleable__content\"><pre>LinearRegression()</pre></div></div></div></div></div>"
      ],
      "text/plain": [
       "LinearRegression()"
      ]
     },
     "execution_count": 29,
     "metadata": {},
     "output_type": "execute_result"
    }
   ],
   "source": [
    "regression.fit(X_train,y_train)"
   ]
  },
  {
   "cell_type": "code",
   "execution_count": 30,
   "id": "cfa50af1",
   "metadata": {},
   "outputs": [
    {
     "data": {
      "text/plain": [
       "7370.065363771459"
      ]
     },
     "execution_count": 30,
     "metadata": {},
     "output_type": "execute_result"
    }
   ],
   "source": [
    "regression.intercept_ #To find the linear intercept"
   ]
  },
  {
   "cell_type": "code",
   "execution_count": 31,
   "id": "7be7c2bb",
   "metadata": {},
   "outputs": [
    {
     "data": {
      "text/plain": [
       "array([ 23.58939362, -13.61712975,  52.58660413, -28.70731194])"
      ]
     },
     "execution_count": 31,
     "metadata": {},
     "output_type": "execute_result"
    }
   ],
   "source": [
    "regression.coef_ #To find the linear coeeficient"
   ]
  },
  {
   "cell_type": "code",
   "execution_count": 32,
   "id": "4fe5cc62",
   "metadata": {},
   "outputs": [
    {
     "name": "stdout",
     "output_type": "stream",
     "text": [
      "[16.88087504  8.79396249  8.46765019 ...  8.61631542  9.21361182\n",
      "  9.05284756]\n"
     ]
    }
   ],
   "source": [
    "prediction = regression.predict(X_test) \n",
    "print(prediction)"
   ]
  },
  {
   "cell_type": "code",
   "execution_count": 33,
   "id": "0538f570",
   "metadata": {},
   "outputs": [
    {
     "data": {
      "text/plain": [
       "116024     8.1\n",
       "177432    11.5\n",
       "82705     10.1\n",
       "110434     8.5\n",
       "142762    11.0\n",
       "          ... \n",
       "84468      4.9\n",
       "5668       8.9\n",
       "110316     8.5\n",
       "51960      5.7\n",
       "185567    17.8\n",
       "Name: fare_amount, Length: 66000, dtype: float64"
      ]
     },
     "execution_count": 33,
     "metadata": {},
     "output_type": "execute_result"
    }
   ],
   "source": [
    "y_test"
   ]
  },
  {
   "cell_type": "markdown",
   "id": "86e65995",
   "metadata": {},
   "source": [
    "### Metrics Evaluation using R2, Mean Squared Error, Root Mean Sqared Error"
   ]
  },
  {
   "cell_type": "code",
   "execution_count": 34,
   "id": "9ce8e343",
   "metadata": {},
   "outputs": [
    {
     "data": {
      "text/plain": [
       "0.08913712629724835"
      ]
     },
     "execution_count": 34,
     "metadata": {},
     "output_type": "execute_result"
    }
   ],
   "source": [
    "from sklearn.metrics import r2_score\n",
    "r2_score (y_test,prediction)"
   ]
  },
  {
   "cell_type": "code",
   "execution_count": 35,
   "id": "11ede332",
   "metadata": {},
   "outputs": [
    {
     "data": {
      "text/plain": [
       "26.86261611663543"
      ]
     },
     "execution_count": 35,
     "metadata": {},
     "output_type": "execute_result"
    }
   ],
   "source": [
    "from sklearn.metrics import mean_squared_error\n",
    "MSE = mean_squared_error(y_test,prediction)\n",
    "MSE"
   ]
  },
  {
   "cell_type": "code",
   "execution_count": 36,
   "id": "cd03a1dc",
   "metadata": {},
   "outputs": [
    {
     "data": {
      "text/plain": [
       "5.182915792933108"
      ]
     },
     "execution_count": 36,
     "metadata": {},
     "output_type": "execute_result"
    }
   ],
   "source": [
    "# The equation RMSE = np.sqrt(MSE) is used to calculate the Root Mean Square Error (RMSE) from the Mean Squared Error (MSE).\n",
    "RMSE = np.sqrt(MSE)\n",
    "RMSE"
   ]
  },
  {
   "cell_type": "markdown",
   "id": "160380dd",
   "metadata": {},
   "source": [
    "### Random Forest Regression"
   ]
  },
  {
   "cell_type": "code",
   "execution_count": 37,
   "id": "c46941e2",
   "metadata": {},
   "outputs": [
    {
     "data": {
      "text/html": [
       "<style>#sk-container-id-2 {color: black;background-color: white;}#sk-container-id-2 pre{padding: 0;}#sk-container-id-2 div.sk-toggleable {background-color: white;}#sk-container-id-2 label.sk-toggleable__label {cursor: pointer;display: block;width: 100%;margin-bottom: 0;padding: 0.3em;box-sizing: border-box;text-align: center;}#sk-container-id-2 label.sk-toggleable__label-arrow:before {content: \"▸\";float: left;margin-right: 0.25em;color: #696969;}#sk-container-id-2 label.sk-toggleable__label-arrow:hover:before {color: black;}#sk-container-id-2 div.sk-estimator:hover label.sk-toggleable__label-arrow:before {color: black;}#sk-container-id-2 div.sk-toggleable__content {max-height: 0;max-width: 0;overflow: hidden;text-align: left;background-color: #f0f8ff;}#sk-container-id-2 div.sk-toggleable__content pre {margin: 0.2em;color: black;border-radius: 0.25em;background-color: #f0f8ff;}#sk-container-id-2 input.sk-toggleable__control:checked~div.sk-toggleable__content {max-height: 200px;max-width: 100%;overflow: auto;}#sk-container-id-2 input.sk-toggleable__control:checked~label.sk-toggleable__label-arrow:before {content: \"▾\";}#sk-container-id-2 div.sk-estimator input.sk-toggleable__control:checked~label.sk-toggleable__label {background-color: #d4ebff;}#sk-container-id-2 div.sk-label input.sk-toggleable__control:checked~label.sk-toggleable__label {background-color: #d4ebff;}#sk-container-id-2 input.sk-hidden--visually {border: 0;clip: rect(1px 1px 1px 1px);clip: rect(1px, 1px, 1px, 1px);height: 1px;margin: -1px;overflow: hidden;padding: 0;position: absolute;width: 1px;}#sk-container-id-2 div.sk-estimator {font-family: monospace;background-color: #f0f8ff;border: 1px dotted black;border-radius: 0.25em;box-sizing: border-box;margin-bottom: 0.5em;}#sk-container-id-2 div.sk-estimator:hover {background-color: #d4ebff;}#sk-container-id-2 div.sk-parallel-item::after {content: \"\";width: 100%;border-bottom: 1px solid gray;flex-grow: 1;}#sk-container-id-2 div.sk-label:hover label.sk-toggleable__label {background-color: #d4ebff;}#sk-container-id-2 div.sk-serial::before {content: \"\";position: absolute;border-left: 1px solid gray;box-sizing: border-box;top: 0;bottom: 0;left: 50%;z-index: 0;}#sk-container-id-2 div.sk-serial {display: flex;flex-direction: column;align-items: center;background-color: white;padding-right: 0.2em;padding-left: 0.2em;position: relative;}#sk-container-id-2 div.sk-item {position: relative;z-index: 1;}#sk-container-id-2 div.sk-parallel {display: flex;align-items: stretch;justify-content: center;background-color: white;position: relative;}#sk-container-id-2 div.sk-item::before, #sk-container-id-2 div.sk-parallel-item::before {content: \"\";position: absolute;border-left: 1px solid gray;box-sizing: border-box;top: 0;bottom: 0;left: 50%;z-index: -1;}#sk-container-id-2 div.sk-parallel-item {display: flex;flex-direction: column;z-index: 1;position: relative;background-color: white;}#sk-container-id-2 div.sk-parallel-item:first-child::after {align-self: flex-end;width: 50%;}#sk-container-id-2 div.sk-parallel-item:last-child::after {align-self: flex-start;width: 50%;}#sk-container-id-2 div.sk-parallel-item:only-child::after {width: 0;}#sk-container-id-2 div.sk-dashed-wrapped {border: 1px dashed gray;margin: 0 0.4em 0.5em 0.4em;box-sizing: border-box;padding-bottom: 0.4em;background-color: white;}#sk-container-id-2 div.sk-label label {font-family: monospace;font-weight: bold;display: inline-block;line-height: 1.2em;}#sk-container-id-2 div.sk-label-container {text-align: center;}#sk-container-id-2 div.sk-container {/* jupyter's `normalize.less` sets `[hidden] { display: none; }` but bootstrap.min.css set `[hidden] { display: none !important; }` so we also need the `!important` here to be able to override the default hidden behavior on the sphinx rendered scikit-learn.org. See: https://github.com/scikit-learn/scikit-learn/issues/21755 */display: inline-block !important;position: relative;}#sk-container-id-2 div.sk-text-repr-fallback {display: none;}</style><div id=\"sk-container-id-2\" class=\"sk-top-container\"><div class=\"sk-text-repr-fallback\"><pre>RandomForestRegressor()</pre><b>In a Jupyter environment, please rerun this cell to show the HTML representation or trust the notebook. <br />On GitHub, the HTML representation is unable to render, please try loading this page with nbviewer.org.</b></div><div class=\"sk-container\" hidden><div class=\"sk-item\"><div class=\"sk-estimator sk-toggleable\"><input class=\"sk-toggleable__control sk-hidden--visually\" id=\"sk-estimator-id-2\" type=\"checkbox\" checked><label for=\"sk-estimator-id-2\" class=\"sk-toggleable__label sk-toggleable__label-arrow\">RandomForestRegressor</label><div class=\"sk-toggleable__content\"><pre>RandomForestRegressor()</pre></div></div></div></div></div>"
      ],
      "text/plain": [
       "RandomForestRegressor()"
      ]
     },
     "execution_count": 37,
     "metadata": {},
     "output_type": "execute_result"
    }
   ],
   "source": [
    "from sklearn.ensemble import RandomForestRegressor\n",
    "rf = RandomForestRegressor(n_estimators=100)\n",
    "rf.fit(X_train,y_train)"
   ]
  },
  {
   "cell_type": "code",
   "execution_count": 38,
   "id": "d8b3dff1",
   "metadata": {},
   "outputs": [
    {
     "data": {
      "text/plain": [
       "array([10.57745445, 11.149     , 11.752     , ...,  8.843     ,\n",
       "        9.314     , 17.837     ])"
      ]
     },
     "execution_count": 38,
     "metadata": {},
     "output_type": "execute_result"
    }
   ],
   "source": [
    "y_pred = rf.predict(X_test)\n",
    "y_pred"
   ]
  },
  {
   "cell_type": "code",
   "execution_count": 40,
   "id": "83d21f78",
   "metadata": {},
   "outputs": [
    {
     "name": "stdout",
     "output_type": "stream",
     "text": [
      "0.7606985971387621\n",
      "7.057332016511124\n",
      "2.656563949260609\n"
     ]
    }
   ],
   "source": [
    "# metric evaluation for random forest\n",
    "R2_Random = r2_score(y_test,y_pred)\n",
    "print(R2_Random)\n",
    "\n",
    "MSE_Random = mean_squared_error(y_test,y_pred)\n",
    "print(MSE_Random)\n",
    "\n",
    "RMSE_Random = np.sqrt(MSE_Random)\n",
    "print(RMSE_Random)\n",
    "\n"
   ]
  },
  {
   "cell_type": "code",
   "execution_count": null,
   "id": "f11fc6fa",
   "metadata": {},
   "outputs": [],
   "source": []
  }
 ],
 "metadata": {
  "kernelspec": {
   "display_name": "Python 3",
   "language": "python",
   "name": "python3"
  },
  "language_info": {
   "codemirror_mode": {
    "name": "ipython",
    "version": 3
   },
   "file_extension": ".py",
   "mimetype": "text/x-python",
   "name": "python",
   "nbconvert_exporter": "python",
   "pygments_lexer": "ipython3",
   "version": "3.8.8"
  }
 },
 "nbformat": 4,
 "nbformat_minor": 5
}
