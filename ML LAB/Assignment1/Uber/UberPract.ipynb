{
 "cells": [
  {
   "cell_type": "code",
   "execution_count": 18,
   "id": "9f8cb247",
   "metadata": {},
   "outputs": [],
   "source": [
    "import numpy as np \n",
    "import pandas as pd\n",
    "import seaborn as sns\n",
    "import matplotlib.pyplot as plt\n",
    "\n",
    "from sklearn.ensemble import RandomForestRegressor \n",
    "from sklearn import metrics\n",
    "from sklearn import preprocessing"
   ]
  },
  {
   "cell_type": "code",
   "execution_count": 19,
   "id": "8efb995e",
   "metadata": {},
   "outputs": [],
   "source": [
    "df = pd.read_csv(\"uber.csv\")"
   ]
  },
  {
   "cell_type": "code",
   "execution_count": 20,
   "id": "87757f31",
   "metadata": {
    "scrolled": true
   },
   "outputs": [
    {
     "data": {
      "text/html": [
       "<div>\n",
       "<style scoped>\n",
       "    .dataframe tbody tr th:only-of-type {\n",
       "        vertical-align: middle;\n",
       "    }\n",
       "\n",
       "    .dataframe tbody tr th {\n",
       "        vertical-align: top;\n",
       "    }\n",
       "\n",
       "    .dataframe thead th {\n",
       "        text-align: right;\n",
       "    }\n",
       "</style>\n",
       "<table border=\"1\" class=\"dataframe\">\n",
       "  <thead>\n",
       "    <tr style=\"text-align: right;\">\n",
       "      <th></th>\n",
       "      <th>Unnamed: 0</th>\n",
       "      <th>key</th>\n",
       "      <th>fare_amount</th>\n",
       "      <th>pickup_datetime</th>\n",
       "      <th>pickup_longitude</th>\n",
       "      <th>pickup_latitude</th>\n",
       "      <th>dropoff_longitude</th>\n",
       "      <th>dropoff_latitude</th>\n",
       "      <th>passenger_count</th>\n",
       "    </tr>\n",
       "  </thead>\n",
       "  <tbody>\n",
       "    <tr>\n",
       "      <th>0</th>\n",
       "      <td>24238194</td>\n",
       "      <td>2015-05-07 19:52:06.0000003</td>\n",
       "      <td>7.5</td>\n",
       "      <td>2015-05-07 19:52:06 UTC</td>\n",
       "      <td>-73.999817</td>\n",
       "      <td>40.738354</td>\n",
       "      <td>-73.999512</td>\n",
       "      <td>40.723217</td>\n",
       "      <td>1</td>\n",
       "    </tr>\n",
       "    <tr>\n",
       "      <th>1</th>\n",
       "      <td>27835199</td>\n",
       "      <td>2009-07-17 20:04:56.0000002</td>\n",
       "      <td>7.7</td>\n",
       "      <td>2009-07-17 20:04:56 UTC</td>\n",
       "      <td>-73.994355</td>\n",
       "      <td>40.728225</td>\n",
       "      <td>-73.994710</td>\n",
       "      <td>40.750325</td>\n",
       "      <td>1</td>\n",
       "    </tr>\n",
       "    <tr>\n",
       "      <th>2</th>\n",
       "      <td>44984355</td>\n",
       "      <td>2009-08-24 21:45:00.00000061</td>\n",
       "      <td>12.9</td>\n",
       "      <td>2009-08-24 21:45:00 UTC</td>\n",
       "      <td>-74.005043</td>\n",
       "      <td>40.740770</td>\n",
       "      <td>-73.962565</td>\n",
       "      <td>40.772647</td>\n",
       "      <td>1</td>\n",
       "    </tr>\n",
       "    <tr>\n",
       "      <th>3</th>\n",
       "      <td>25894730</td>\n",
       "      <td>2009-06-26 08:22:21.0000001</td>\n",
       "      <td>5.3</td>\n",
       "      <td>2009-06-26 08:22:21 UTC</td>\n",
       "      <td>-73.976124</td>\n",
       "      <td>40.790844</td>\n",
       "      <td>-73.965316</td>\n",
       "      <td>40.803349</td>\n",
       "      <td>3</td>\n",
       "    </tr>\n",
       "    <tr>\n",
       "      <th>4</th>\n",
       "      <td>17610152</td>\n",
       "      <td>2014-08-28 17:47:00.000000188</td>\n",
       "      <td>16.0</td>\n",
       "      <td>2014-08-28 17:47:00 UTC</td>\n",
       "      <td>-73.925023</td>\n",
       "      <td>40.744085</td>\n",
       "      <td>-73.973082</td>\n",
       "      <td>40.761247</td>\n",
       "      <td>5</td>\n",
       "    </tr>\n",
       "  </tbody>\n",
       "</table>\n",
       "</div>"
      ],
      "text/plain": [
       "   Unnamed: 0                            key  fare_amount  \\\n",
       "0    24238194    2015-05-07 19:52:06.0000003          7.5   \n",
       "1    27835199    2009-07-17 20:04:56.0000002          7.7   \n",
       "2    44984355   2009-08-24 21:45:00.00000061         12.9   \n",
       "3    25894730    2009-06-26 08:22:21.0000001          5.3   \n",
       "4    17610152  2014-08-28 17:47:00.000000188         16.0   \n",
       "\n",
       "           pickup_datetime  pickup_longitude  pickup_latitude  \\\n",
       "0  2015-05-07 19:52:06 UTC        -73.999817        40.738354   \n",
       "1  2009-07-17 20:04:56 UTC        -73.994355        40.728225   \n",
       "2  2009-08-24 21:45:00 UTC        -74.005043        40.740770   \n",
       "3  2009-06-26 08:22:21 UTC        -73.976124        40.790844   \n",
       "4  2014-08-28 17:47:00 UTC        -73.925023        40.744085   \n",
       "\n",
       "   dropoff_longitude  dropoff_latitude  passenger_count  \n",
       "0         -73.999512         40.723217                1  \n",
       "1         -73.994710         40.750325                1  \n",
       "2         -73.962565         40.772647                1  \n",
       "3         -73.965316         40.803349                3  \n",
       "4         -73.973082         40.761247                5  "
      ]
     },
     "execution_count": 20,
     "metadata": {},
     "output_type": "execute_result"
    }
   ],
   "source": [
    "df.head()"
   ]
  },
  {
   "cell_type": "code",
   "execution_count": 21,
   "id": "71590355",
   "metadata": {},
   "outputs": [
    {
     "data": {
      "text/plain": [
       "Unnamed: 0           0\n",
       "key                  0\n",
       "fare_amount          0\n",
       "pickup_datetime      0\n",
       "pickup_longitude     0\n",
       "pickup_latitude      0\n",
       "dropoff_longitude    1\n",
       "dropoff_latitude     1\n",
       "passenger_count      0\n",
       "dtype: int64"
      ]
     },
     "execution_count": 21,
     "metadata": {},
     "output_type": "execute_result"
    }
   ],
   "source": [
    "df.isnull().sum()"
   ]
  },
  {
   "cell_type": "code",
   "execution_count": 22,
   "id": "c9c9fb2a",
   "metadata": {},
   "outputs": [],
   "source": [
    "df['dropoff_longitude'].fillna(value=df['dropoff_longitude'].mean(),inplace = True)\n",
    "df['dropoff_latitude'].fillna(value=df['dropoff_latitude'].median(),inplace = True)"
   ]
  },
  {
   "cell_type": "code",
   "execution_count": 23,
   "id": "94b1663b",
   "metadata": {},
   "outputs": [
    {
     "data": {
      "text/plain": [
       "Unnamed: 0           0\n",
       "key                  0\n",
       "fare_amount          0\n",
       "pickup_datetime      0\n",
       "pickup_longitude     0\n",
       "pickup_latitude      0\n",
       "dropoff_longitude    0\n",
       "dropoff_latitude     0\n",
       "passenger_count      0\n",
       "dtype: int64"
      ]
     },
     "execution_count": 23,
     "metadata": {},
     "output_type": "execute_result"
    }
   ],
   "source": [
    "df.isnull().sum()"
   ]
  },
  {
   "cell_type": "code",
   "execution_count": 24,
   "id": "8c2dc071",
   "metadata": {},
   "outputs": [
    {
     "data": {
      "text/html": [
       "<div>\n",
       "<style scoped>\n",
       "    .dataframe tbody tr th:only-of-type {\n",
       "        vertical-align: middle;\n",
       "    }\n",
       "\n",
       "    .dataframe tbody tr th {\n",
       "        vertical-align: top;\n",
       "    }\n",
       "\n",
       "    .dataframe thead th {\n",
       "        text-align: right;\n",
       "    }\n",
       "</style>\n",
       "<table border=\"1\" class=\"dataframe\">\n",
       "  <thead>\n",
       "    <tr style=\"text-align: right;\">\n",
       "      <th></th>\n",
       "      <th>Unnamed: 0</th>\n",
       "      <th>key</th>\n",
       "      <th>fare_amount</th>\n",
       "      <th>pickup_datetime</th>\n",
       "      <th>pickup_longitude</th>\n",
       "      <th>pickup_latitude</th>\n",
       "      <th>dropoff_longitude</th>\n",
       "      <th>dropoff_latitude</th>\n",
       "      <th>passenger_count</th>\n",
       "    </tr>\n",
       "  </thead>\n",
       "  <tbody>\n",
       "    <tr>\n",
       "      <th>0</th>\n",
       "      <td>24238194</td>\n",
       "      <td>2015-05-07 19:52:06.0000003</td>\n",
       "      <td>7.5</td>\n",
       "      <td>2015-05-07 19:52:06 UTC</td>\n",
       "      <td>-73.999817</td>\n",
       "      <td>40.738354</td>\n",
       "      <td>-73.999512</td>\n",
       "      <td>40.723217</td>\n",
       "      <td>1</td>\n",
       "    </tr>\n",
       "    <tr>\n",
       "      <th>1</th>\n",
       "      <td>27835199</td>\n",
       "      <td>2009-07-17 20:04:56.0000002</td>\n",
       "      <td>7.7</td>\n",
       "      <td>2009-07-17 20:04:56 UTC</td>\n",
       "      <td>-73.994355</td>\n",
       "      <td>40.728225</td>\n",
       "      <td>-73.994710</td>\n",
       "      <td>40.750325</td>\n",
       "      <td>1</td>\n",
       "    </tr>\n",
       "    <tr>\n",
       "      <th>2</th>\n",
       "      <td>44984355</td>\n",
       "      <td>2009-08-24 21:45:00.00000061</td>\n",
       "      <td>12.9</td>\n",
       "      <td>2009-08-24 21:45:00 UTC</td>\n",
       "      <td>-74.005043</td>\n",
       "      <td>40.740770</td>\n",
       "      <td>-73.962565</td>\n",
       "      <td>40.772647</td>\n",
       "      <td>1</td>\n",
       "    </tr>\n",
       "    <tr>\n",
       "      <th>3</th>\n",
       "      <td>25894730</td>\n",
       "      <td>2009-06-26 08:22:21.0000001</td>\n",
       "      <td>5.3</td>\n",
       "      <td>2009-06-26 08:22:21 UTC</td>\n",
       "      <td>-73.976124</td>\n",
       "      <td>40.790844</td>\n",
       "      <td>-73.965316</td>\n",
       "      <td>40.803349</td>\n",
       "      <td>3</td>\n",
       "    </tr>\n",
       "    <tr>\n",
       "      <th>4</th>\n",
       "      <td>17610152</td>\n",
       "      <td>2014-08-28 17:47:00.000000188</td>\n",
       "      <td>16.0</td>\n",
       "      <td>2014-08-28 17:47:00 UTC</td>\n",
       "      <td>-73.925023</td>\n",
       "      <td>40.744085</td>\n",
       "      <td>-73.973082</td>\n",
       "      <td>40.761247</td>\n",
       "      <td>5</td>\n",
       "    </tr>\n",
       "  </tbody>\n",
       "</table>\n",
       "</div>"
      ],
      "text/plain": [
       "   Unnamed: 0                            key  fare_amount  \\\n",
       "0    24238194    2015-05-07 19:52:06.0000003          7.5   \n",
       "1    27835199    2009-07-17 20:04:56.0000002          7.7   \n",
       "2    44984355   2009-08-24 21:45:00.00000061         12.9   \n",
       "3    25894730    2009-06-26 08:22:21.0000001          5.3   \n",
       "4    17610152  2014-08-28 17:47:00.000000188         16.0   \n",
       "\n",
       "           pickup_datetime  pickup_longitude  pickup_latitude  \\\n",
       "0  2015-05-07 19:52:06 UTC        -73.999817        40.738354   \n",
       "1  2009-07-17 20:04:56 UTC        -73.994355        40.728225   \n",
       "2  2009-08-24 21:45:00 UTC        -74.005043        40.740770   \n",
       "3  2009-06-26 08:22:21 UTC        -73.976124        40.790844   \n",
       "4  2014-08-28 17:47:00 UTC        -73.925023        40.744085   \n",
       "\n",
       "   dropoff_longitude  dropoff_latitude  passenger_count  \n",
       "0         -73.999512         40.723217                1  \n",
       "1         -73.994710         40.750325                1  \n",
       "2         -73.962565         40.772647                1  \n",
       "3         -73.965316         40.803349                3  \n",
       "4         -73.973082         40.761247                5  "
      ]
     },
     "execution_count": 24,
     "metadata": {},
     "output_type": "execute_result"
    }
   ],
   "source": [
    "df.head()"
   ]
  },
  {
   "cell_type": "code",
   "execution_count": 25,
   "id": "c73f72fc",
   "metadata": {},
   "outputs": [],
   "source": [
    "df.pickup_datetime = pd.to_datetime(df.pickup_datetime,errors = 'coerce')"
   ]
  },
  {
   "cell_type": "code",
   "execution_count": 26,
   "id": "36030f1d",
   "metadata": {},
   "outputs": [],
   "source": [
    "df = df.assign(\n",
    "             second = df.pickup_datetime.dt.second,\n",
    "             minute = df.pickup_datetime.dt.minute,\n",
    "            hour = df.pickup_datetime.dt.hour,\n",
    "            day = df.pickup_datetime.dt.day,\n",
    "            month = df.pickup_datetime.dt.month,\n",
    "            year = df.pickup_datetime.dt.year,\n",
    "            dayofweek = df.pickup_datetime.dt.dayofweek)\n",
    "df = df.drop('pickup_datetime','Unnamed: 0', axis = 1)"
   ]
  },
  {
   "cell_type": "code",
   "execution_count": 31,
   "id": "ee4b2e73",
   "metadata": {},
   "outputs": [],
   "source": [
    "df = df.drop(['key','Unnamed: 0'], axis = 1)"
   ]
  },
  {
   "cell_type": "code",
   "execution_count": 32,
   "id": "da1ea7bb",
   "metadata": {},
   "outputs": [
    {
     "data": {
      "text/plain": [
       "fare_amount          float64\n",
       "pickup_longitude     float64\n",
       "pickup_latitude      float64\n",
       "dropoff_longitude    float64\n",
       "dropoff_latitude     float64\n",
       "passenger_count        int64\n",
       "second                 int64\n",
       "minute                 int64\n",
       "hour                   int64\n",
       "day                    int64\n",
       "month                  int64\n",
       "year                   int64\n",
       "dayofweek              int64\n",
       "dtype: object"
      ]
     },
     "execution_count": 32,
     "metadata": {},
     "output_type": "execute_result"
    }
   ],
   "source": [
    "df.dtypes"
   ]
  },
  {
   "cell_type": "code",
   "execution_count": 33,
   "id": "5083513a",
   "metadata": {},
   "outputs": [
    {
     "data": {
      "text/plain": [
       "fare_amount             AxesSubplot(0.125,0.787927;0.352273x0.0920732)\n",
       "pickup_longitude     AxesSubplot(0.547727,0.787927;0.352273x0.0920732)\n",
       "pickup_latitude         AxesSubplot(0.125,0.677439;0.352273x0.0920732)\n",
       "dropoff_longitude    AxesSubplot(0.547727,0.677439;0.352273x0.0920732)\n",
       "dropoff_latitude        AxesSubplot(0.125,0.566951;0.352273x0.0920732)\n",
       "passenger_count      AxesSubplot(0.547727,0.566951;0.352273x0.0920732)\n",
       "second                  AxesSubplot(0.125,0.456463;0.352273x0.0920732)\n",
       "minute               AxesSubplot(0.547727,0.456463;0.352273x0.0920732)\n",
       "hour                    AxesSubplot(0.125,0.345976;0.352273x0.0920732)\n",
       "day                  AxesSubplot(0.547727,0.345976;0.352273x0.0920732)\n",
       "month                   AxesSubplot(0.125,0.235488;0.352273x0.0920732)\n",
       "year                 AxesSubplot(0.547727,0.235488;0.352273x0.0920732)\n",
       "dayofweek                  AxesSubplot(0.125,0.125;0.352273x0.0920732)\n",
       "dtype: object"
      ]
     },
     "execution_count": 33,
     "metadata": {},
     "output_type": "execute_result"
    },
    {
     "data": {
      "image/png": "[encoded data removed]",
      "text/plain": [
       "<Figure size 1080x1440 with 14 Axes>"
      ]
     },
     "metadata": {
      "needs_background": "light"
     },
     "output_type": "display_data"
    }
   ],
   "source": [
    "\n",
    "df.plot(kind=\"box\",subplots= True, layout= (7,2),figsize =(15,20))"
   ]
  },
  {
   "cell_type": "code",
   "execution_count": 34,
   "id": "0f85f94c",
   "metadata": {},
   "outputs": [
    {
     "data": {
      "text/plain": [
       "fare_amount             AxesSubplot(0.125,0.787927;0.352273x0.0920732)\n",
       "pickup_longitude     AxesSubplot(0.547727,0.787927;0.352273x0.0920732)\n",
       "pickup_latitude         AxesSubplot(0.125,0.677439;0.352273x0.0920732)\n",
       "dropoff_longitude    AxesSubplot(0.547727,0.677439;0.352273x0.0920732)\n",
       "dropoff_latitude        AxesSubplot(0.125,0.566951;0.352273x0.0920732)\n",
       "passenger_count      AxesSubplot(0.547727,0.566951;0.352273x0.0920732)\n",
       "second                  AxesSubplot(0.125,0.456463;0.352273x0.0920732)\n",
       "minute               AxesSubplot(0.547727,0.456463;0.352273x0.0920732)\n",
       "hour                    AxesSubplot(0.125,0.345976;0.352273x0.0920732)\n",
       "day                  AxesSubplot(0.547727,0.345976;0.352273x0.0920732)\n",
       "month                   AxesSubplot(0.125,0.235488;0.352273x0.0920732)\n",
       "year                 AxesSubplot(0.547727,0.235488;0.352273x0.0920732)\n",
       "dayofweek                  AxesSubplot(0.125,0.125;0.352273x0.0920732)\n",
       "dtype: object"
      ]
     },
     "execution_count": 34,
     "metadata": {},
     "output_type": "execute_result"
    },
    {
     "data": {
      "image/png": "[encoded data removed]",
      "text/plain": [
       "<Figure size 1080x1440 with 14 Axes>"
      ]
     },
     "metadata": {
      "needs_background": "light"
     },
     "output_type": "display_data"
    }
   ],
   "source": [
    "import numpy as np\n",
    "def remove_outlier(df1 , col):\n",
    "    Q1 = df1[col].quantile(0.25)\n",
    "    Q3 = df1[col].quantile(0.75)\n",
    "    IQR = Q3 - Q1\n",
    "    lower_whisker = Q1-1.5*IQR\n",
    "    upper_whisker = Q3+1.5*IQR\n",
    "    df1[col] = np.clip(df1[col] , lower_whisker , upper_whisker)\n",
    "    return df1\n",
    "\n",
    "def treat_outliers_all(df1 , col_list):\n",
    "    for c in col_list:\n",
    "        df1 = remove_outlier(df1 , c)\n",
    "    return df1\n",
    "\n",
    "# Assuming that 'df' is your DataFrame and 'df.columns' is the list of columns in your DataFrame\n",
    "df = treat_outliers_all(df , df.columns)\n",
    "\n",
    "# Plotting boxplots for all columns in the DataFrame\n",
    "df.plot(kind = \"box\", subplots = True, layout = (7,2), figsize=(15,20))"
   ]
  },
  {
   "cell_type": "code",
   "execution_count": 35,
   "id": "9b44434a",
   "metadata": {},
   "outputs": [
    {
     "data": {
      "text/plain": [
       "fare_amount          float64\n",
       "pickup_longitude     float64\n",
       "pickup_latitude      float64\n",
       "dropoff_longitude    float64\n",
       "dropoff_latitude     float64\n",
       "passenger_count      float64\n",
       "second                 int64\n",
       "minute                 int64\n",
       "hour                   int64\n",
       "day                    int64\n",
       "month                  int64\n",
       "year                   int64\n",
       "dayofweek              int64\n",
       "dtype: object"
      ]
     },
     "execution_count": 35,
     "metadata": {},
     "output_type": "execute_result"
    }
   ],
   "source": [
    "df.dtypes"
   ]
  },
  {
   "cell_type": "code",
   "execution_count": 36,
   "id": "7c617ee0",
   "metadata": {},
   "outputs": [],
   "source": [
    "corr = df.corr()"
   ]
  },
  {
   "cell_type": "code",
   "execution_count": 37,
   "id": "8416a482",
   "metadata": {},
   "outputs": [
    {
     "data": {
      "text/html": [
       "<style  type=\"text/css\" >\n",
       "#T_13b19_row0_col0,#T_13b19_row1_col1,#T_13b19_row2_col2,#T_13b19_row3_col3,#T_13b19_row4_col4,#T_13b19_row5_col5,#T_13b19_row6_col6,#T_13b19_row7_col7,#T_13b19_row8_col8,#T_13b19_row9_col9,#T_13b19_row10_col10,#T_13b19_row11_col11,#T_13b19_row12_col12{\n",
       "            background-color:  #00441b;\n",
       "            color:  #f1f1f1;\n",
       "        }#T_13b19_row0_col1{\n",
       "            background-color:  #dbf2f2;\n",
       "            color:  #000000;\n",
       "        }#T_13b19_row0_col2,#T_13b19_row0_col4,#T_13b19_row0_col7,#T_13b19_row1_col7,#T_13b19_row4_col0,#T_13b19_row5_col6,#T_13b19_row6_col5,#T_13b19_row8_col3,#T_13b19_row8_col12,#T_13b19_row10_col9,#T_13b19_row10_col11,#T_13b19_row11_col10,#T_13b19_row12_col1,#T_13b19_row12_col8{\n",
       "            background-color:  #f7fcfd;\n",
       "            color:  #000000;\n",
       "        }#T_13b19_row0_col3{\n",
       "            background-color:  #ccece6;\n",
       "            color:  #000000;\n",
       "        }#T_13b19_row0_col5,#T_13b19_row1_col4,#T_13b19_row6_col11,#T_13b19_row8_col5{\n",
       "            background-color:  #dbf1f1;\n",
       "            color:  #000000;\n",
       "        }#T_13b19_row0_col6,#T_13b19_row2_col6,#T_13b19_row4_col6,#T_13b19_row7_col6,#T_13b19_row9_col5{\n",
       "            background-color:  #ddf2f3;\n",
       "            color:  #000000;\n",
       "        }#T_13b19_row0_col8,#T_13b19_row1_col12,#T_13b19_row6_col10,#T_13b19_row11_col3,#T_13b19_row12_col2{\n",
       "            background-color:  #eff9fb;\n",
       "            color:  #000000;\n",
       "        }#T_13b19_row0_col9,#T_13b19_row5_col9,#T_13b19_row8_col9,#T_13b19_row9_col1,#T_13b19_row10_col1,#T_13b19_row12_col9{\n",
       "            background-color:  #f4fbfc;\n",
       "            color:  #000000;\n",
       "        }#T_13b19_row0_col10,#T_13b19_row8_col4{\n",
       "            background-color:  #e4f5f8;\n",
       "            color:  #000000;\n",
       "        }#T_13b19_row0_col11{\n",
       "            background-color:  #d1eee9;\n",
       "            color:  #000000;\n",
       "        }#T_13b19_row0_col12,#T_13b19_row1_col8,#T_13b19_row2_col3,#T_13b19_row2_col11,#T_13b19_row8_col0,#T_13b19_row9_col11{\n",
       "            background-color:  #eaf7fa;\n",
       "            color:  #000000;\n",
       "        }#T_13b19_row1_col0{\n",
       "            background-color:  #cdece6;\n",
       "            color:  #000000;\n",
       "        }#T_13b19_row1_col2{\n",
       "            background-color:  #aadfd3;\n",
       "            color:  #000000;\n",
       "        }#T_13b19_row1_col3{\n",
       "            background-color:  #7acbb3;\n",
       "            color:  #000000;\n",
       "        }#T_13b19_row1_col5,#T_13b19_row1_col6,#T_13b19_row2_col5,#T_13b19_row8_col6{\n",
       "            background-color:  #e0f3f5;\n",
       "            color:  #000000;\n",
       "        }#T_13b19_row1_col9,#T_13b19_row2_col0,#T_13b19_row2_col9,#T_13b19_row3_col9,#T_13b19_row4_col9,#T_13b19_row6_col9{\n",
       "            background-color:  #f5fbfd;\n",
       "            color:  #000000;\n",
       "        }#T_13b19_row1_col10,#T_13b19_row2_col8,#T_13b19_row2_col10,#T_13b19_row3_col10,#T_13b19_row4_col10,#T_13b19_row5_col4,#T_13b19_row6_col2,#T_13b19_row7_col0,#T_13b19_row7_col4,#T_13b19_row7_col10,#T_13b19_row8_col11,#T_13b19_row9_col4,#T_13b19_row11_col4,#T_13b19_row12_col11{\n",
       "            background-color:  #e8f6fa;\n",
       "            color:  #000000;\n",
       "        }#T_13b19_row1_col11,#T_13b19_row3_col11,#T_13b19_row5_col10,#T_13b19_row6_col0,#T_13b19_row6_col4,#T_13b19_row9_col0,#T_13b19_row10_col4{\n",
       "            background-color:  #e7f6f9;\n",
       "            color:  #000000;\n",
       "        }#T_13b19_row2_col1{\n",
       "            background-color:  #c2e8e0;\n",
       "            color:  #000000;\n",
       "        }#T_13b19_row2_col4{\n",
       "            background-color:  #52b78b;\n",
       "            color:  #000000;\n",
       "        }#T_13b19_row2_col7,#T_13b19_row3_col7,#T_13b19_row4_col7,#T_13b19_row5_col1,#T_13b19_row5_col7,#T_13b19_row6_col1,#T_13b19_row6_col7,#T_13b19_row8_col7,#T_13b19_row9_col7,#T_13b19_row10_col7,#T_13b19_row11_col7,#T_13b19_row11_col9,#T_13b19_row12_col7{\n",
       "            background-color:  #f6fcfd;\n",
       "            color:  #000000;\n",
       "        }#T_13b19_row2_col12,#T_13b19_row6_col3,#T_13b19_row7_col3,#T_13b19_row9_col3,#T_13b19_row10_col3,#T_13b19_row12_col3{\n",
       "            background-color:  #f1fafc;\n",
       "            color:  #000000;\n",
       "        }#T_13b19_row3_col0{\n",
       "            background-color:  #b5e3d9;\n",
       "            color:  #000000;\n",
       "        }#T_13b19_row3_col1{\n",
       "            background-color:  #7fcdb6;\n",
       "            color:  #000000;\n",
       "        }#T_13b19_row3_col2{\n",
       "            background-color:  #e2f4f7;\n",
       "            color:  #000000;\n",
       "        }#T_13b19_row3_col4{\n",
       "            background-color:  #acdfd4;\n",
       "            color:  #000000;\n",
       "        }#T_13b19_row3_col5,#T_13b19_row11_col5{\n",
       "            background-color:  #dff3f5;\n",
       "            color:  #000000;\n",
       "        }#T_13b19_row3_col6,#T_13b19_row4_col5{\n",
       "            background-color:  #dff3f4;\n",
       "            color:  #000000;\n",
       "        }#T_13b19_row3_col8,#T_13b19_row5_col3,#T_13b19_row8_col1,#T_13b19_row11_col1{\n",
       "            background-color:  #f2fafc;\n",
       "            color:  #000000;\n",
       "        }#T_13b19_row3_col12,#T_13b19_row7_col12,#T_13b19_row10_col8{\n",
       "            background-color:  #ecf8fb;\n",
       "            color:  #000000;\n",
       "        }#T_13b19_row4_col1,#T_13b19_row4_col8,#T_13b19_row4_col11,#T_13b19_row5_col8,#T_13b19_row5_col11,#T_13b19_row7_col2,#T_13b19_row7_col11,#T_13b19_row8_col10,#T_13b19_row9_col2,#T_13b19_row10_col2,#T_13b19_row12_col10{\n",
       "            background-color:  #e9f7fa;\n",
       "            color:  #000000;\n",
       "        }#T_13b19_row4_col2{\n",
       "            background-color:  #53b88c;\n",
       "            color:  #000000;\n",
       "        }#T_13b19_row4_col3{\n",
       "            background-color:  #c0e7df;\n",
       "            color:  #000000;\n",
       "        }#T_13b19_row4_col12{\n",
       "            background-color:  #f0f9fb;\n",
       "            color:  #000000;\n",
       "        }#T_13b19_row5_col0,#T_13b19_row5_col12,#T_13b19_row8_col2,#T_13b19_row12_col0{\n",
       "            background-color:  #e5f5f9;\n",
       "            color:  #000000;\n",
       "        }#T_13b19_row5_col2,#T_13b19_row9_col8,#T_13b19_row9_col10,#T_13b19_row9_col12,#T_13b19_row11_col2,#T_13b19_row11_col12,#T_13b19_row12_col4{\n",
       "            background-color:  #ebf7fa;\n",
       "            color:  #000000;\n",
       "        }#T_13b19_row6_col8,#T_13b19_row10_col12{\n",
       "            background-color:  #edf8fb;\n",
       "            color:  #000000;\n",
       "        }#T_13b19_row6_col12,#T_13b19_row7_col8,#T_13b19_row11_col8{\n",
       "            background-color:  #ecf8fa;\n",
       "            color:  #000000;\n",
       "        }#T_13b19_row7_col1,#T_13b19_row7_col9{\n",
       "            background-color:  #f5fbfc;\n",
       "            color:  #000000;\n",
       "        }#T_13b19_row7_col5,#T_13b19_row9_col6,#T_13b19_row12_col6{\n",
       "            background-color:  #def2f4;\n",
       "            color:  #000000;\n",
       "        }#T_13b19_row10_col0{\n",
       "            background-color:  #e3f4f7;\n",
       "            color:  #000000;\n",
       "        }#T_13b19_row10_col5{\n",
       "            background-color:  #dcf2f2;\n",
       "            color:  #000000;\n",
       "        }#T_13b19_row10_col6{\n",
       "            background-color:  #e6f5f9;\n",
       "            color:  #000000;\n",
       "        }#T_13b19_row11_col0{\n",
       "            background-color:  #cfede8;\n",
       "            color:  #000000;\n",
       "        }#T_13b19_row11_col6{\n",
       "            background-color:  #d0ede9;\n",
       "            color:  #000000;\n",
       "        }#T_13b19_row12_col5{\n",
       "            background-color:  #d5efed;\n",
       "            color:  #000000;\n",
       "        }</style><table id=\"T_13b19_\" ><thead>    <tr>        <th class=\"blank level0\" ></th>        <th class=\"col_heading level0 col0\" >fare_amount</th>        <th class=\"col_heading level0 col1\" >pickup_longitude</th>        <th class=\"col_heading level0 col2\" >pickup_latitude</th>        <th class=\"col_heading level0 col3\" >dropoff_longitude</th>        <th class=\"col_heading level0 col4\" >dropoff_latitude</th>        <th class=\"col_heading level0 col5\" >passenger_count</th>        <th class=\"col_heading level0 col6\" >second</th>        <th class=\"col_heading level0 col7\" >minute</th>        <th class=\"col_heading level0 col8\" >hour</th>        <th class=\"col_heading level0 col9\" >day</th>        <th class=\"col_heading level0 col10\" >month</th>        <th class=\"col_heading level0 col11\" >year</th>        <th class=\"col_heading level0 col12\" >dayofweek</th>    </tr></thead><tbody>\n",
       "                <tr>\n",
       "                        <th id=\"T_13b19_level0_row0\" class=\"row_heading level0 row0\" >fare_amount</th>\n",
       "                        <td id=\"T_13b19_row0_col0\" class=\"data row0 col0\" >1.000000</td>\n",
       "                        <td id=\"T_13b19_row0_col1\" class=\"data row0 col1\" >0.154069</td>\n",
       "                        <td id=\"T_13b19_row0_col2\" class=\"data row0 col2\" >-0.110842</td>\n",
       "                        <td id=\"T_13b19_row0_col3\" class=\"data row0 col3\" >0.218704</td>\n",
       "                        <td id=\"T_13b19_row0_col4\" class=\"data row0 col4\" >-0.125871</td>\n",
       "                        <td id=\"T_13b19_row0_col5\" class=\"data row0 col5\" >0.015778</td>\n",
       "                        <td id=\"T_13b19_row0_col6\" class=\"data row0 col6\" >0.002976</td>\n",
       "                        <td id=\"T_13b19_row0_col7\" class=\"data row0 col7\" >-0.009246</td>\n",
       "                        <td id=\"T_13b19_row0_col8\" class=\"data row0 col8\" >-0.023623</td>\n",
       "                        <td id=\"T_13b19_row0_col9\" class=\"data row0 col9\" >0.004534</td>\n",
       "                        <td id=\"T_13b19_row0_col10\" class=\"data row0 col10\" >0.030817</td>\n",
       "                        <td id=\"T_13b19_row0_col11\" class=\"data row0 col11\" >0.141277</td>\n",
       "                        <td id=\"T_13b19_row0_col12\" class=\"data row0 col12\" >0.013652</td>\n",
       "            </tr>\n",
       "            <tr>\n",
       "                        <th id=\"T_13b19_level0_row1\" class=\"row_heading level0 row1\" >pickup_longitude</th>\n",
       "                        <td id=\"T_13b19_row1_col0\" class=\"data row1 col0\" >0.154069</td>\n",
       "                        <td id=\"T_13b19_row1_col1\" class=\"data row1 col1\" >1.000000</td>\n",
       "                        <td id=\"T_13b19_row1_col2\" class=\"data row1 col2\" >0.259497</td>\n",
       "                        <td id=\"T_13b19_row1_col3\" class=\"data row1 col3\" >0.425631</td>\n",
       "                        <td id=\"T_13b19_row1_col4\" class=\"data row1 col4\" >0.073311</td>\n",
       "                        <td id=\"T_13b19_row1_col5\" class=\"data row1 col5\" >-0.013213</td>\n",
       "                        <td id=\"T_13b19_row1_col6\" class=\"data row1 col6\" >-0.013308</td>\n",
       "                        <td id=\"T_13b19_row1_col7\" class=\"data row1 col7\" >-0.005792</td>\n",
       "                        <td id=\"T_13b19_row1_col8\" class=\"data row1 col8\" >0.011579</td>\n",
       "                        <td id=\"T_13b19_row1_col9\" class=\"data row1 col9\" >-0.003204</td>\n",
       "                        <td id=\"T_13b19_row1_col10\" class=\"data row1 col10\" >0.001169</td>\n",
       "                        <td id=\"T_13b19_row1_col11\" class=\"data row1 col11\" >0.010198</td>\n",
       "                        <td id=\"T_13b19_row1_col12\" class=\"data row1 col12\" >-0.024652</td>\n",
       "            </tr>\n",
       "            <tr>\n",
       "                        <th id=\"T_13b19_level0_row2\" class=\"row_heading level0 row2\" >pickup_latitude</th>\n",
       "                        <td id=\"T_13b19_row2_col0\" class=\"data row2 col0\" >-0.110842</td>\n",
       "                        <td id=\"T_13b19_row2_col1\" class=\"data row2 col1\" >0.259497</td>\n",
       "                        <td id=\"T_13b19_row2_col2\" class=\"data row2 col2\" >1.000000</td>\n",
       "                        <td id=\"T_13b19_row2_col3\" class=\"data row2 col3\" >0.048898</td>\n",
       "                        <td id=\"T_13b19_row2_col4\" class=\"data row2 col4\" >0.515735</td>\n",
       "                        <td id=\"T_13b19_row2_col5\" class=\"data row2 col5\" >-0.012889</td>\n",
       "                        <td id=\"T_13b19_row2_col6\" class=\"data row2 col6\" >0.006061</td>\n",
       "                        <td id=\"T_13b19_row2_col7\" class=\"data row2 col7\" >-0.003454</td>\n",
       "                        <td id=\"T_13b19_row2_col8\" class=\"data row2 col8\" >0.029681</td>\n",
       "                        <td id=\"T_13b19_row2_col9\" class=\"data row2 col9\" >-0.001553</td>\n",
       "                        <td id=\"T_13b19_row2_col10\" class=\"data row2 col10\" >0.001562</td>\n",
       "                        <td id=\"T_13b19_row2_col11\" class=\"data row2 col11\" >-0.014243</td>\n",
       "                        <td id=\"T_13b19_row2_col12\" class=\"data row2 col12\" >-0.042310</td>\n",
       "            </tr>\n",
       "            <tr>\n",
       "                        <th id=\"T_13b19_level0_row3\" class=\"row_heading level0 row3\" >dropoff_longitude</th>\n",
       "                        <td id=\"T_13b19_row3_col0\" class=\"data row3 col0\" >0.218704</td>\n",
       "                        <td id=\"T_13b19_row3_col1\" class=\"data row3 col1\" >0.425631</td>\n",
       "                        <td id=\"T_13b19_row3_col2\" class=\"data row3 col2\" >0.048898</td>\n",
       "                        <td id=\"T_13b19_row3_col3\" class=\"data row3 col3\" >1.000000</td>\n",
       "                        <td id=\"T_13b19_row3_col4\" class=\"data row3 col4\" >0.245665</td>\n",
       "                        <td id=\"T_13b19_row3_col5\" class=\"data row3 col5\" >-0.009325</td>\n",
       "                        <td id=\"T_13b19_row3_col6\" class=\"data row3 col6\" >-0.005227</td>\n",
       "                        <td id=\"T_13b19_row3_col7\" class=\"data row3 col7\" >-0.004832</td>\n",
       "                        <td id=\"T_13b19_row3_col8\" class=\"data row3 col8\" >-0.046578</td>\n",
       "                        <td id=\"T_13b19_row3_col9\" class=\"data row3 col9\" >-0.004027</td>\n",
       "                        <td id=\"T_13b19_row3_col10\" class=\"data row3 col10\" >0.002394</td>\n",
       "                        <td id=\"T_13b19_row3_col11\" class=\"data row3 col11\" >0.011355</td>\n",
       "                        <td id=\"T_13b19_row3_col12\" class=\"data row3 col12\" >-0.003349</td>\n",
       "            </tr>\n",
       "            <tr>\n",
       "                        <th id=\"T_13b19_level0_row4\" class=\"row_heading level0 row4\" >dropoff_latitude</th>\n",
       "                        <td id=\"T_13b19_row4_col0\" class=\"data row4 col0\" >-0.125871</td>\n",
       "                        <td id=\"T_13b19_row4_col1\" class=\"data row4 col1\" >0.073311</td>\n",
       "                        <td id=\"T_13b19_row4_col2\" class=\"data row4 col2\" >0.515735</td>\n",
       "                        <td id=\"T_13b19_row4_col3\" class=\"data row4 col3\" >0.245665</td>\n",
       "                        <td id=\"T_13b19_row4_col4\" class=\"data row4 col4\" >1.000000</td>\n",
       "                        <td id=\"T_13b19_row4_col5\" class=\"data row4 col5\" >-0.006329</td>\n",
       "                        <td id=\"T_13b19_row4_col6\" class=\"data row4 col6\" >0.005177</td>\n",
       "                        <td id=\"T_13b19_row4_col7\" class=\"data row4 col7\" >-0.003160</td>\n",
       "                        <td id=\"T_13b19_row4_col8\" class=\"data row4 col8\" >0.019764</td>\n",
       "                        <td id=\"T_13b19_row4_col9\" class=\"data row4 col9\" >-0.003499</td>\n",
       "                        <td id=\"T_13b19_row4_col10\" class=\"data row4 col10\" >-0.001190</td>\n",
       "                        <td id=\"T_13b19_row4_col11\" class=\"data row4 col11\" >-0.009595</td>\n",
       "                        <td id=\"T_13b19_row4_col12\" class=\"data row4 col12\" >-0.031932</td>\n",
       "            </tr>\n",
       "            <tr>\n",
       "                        <th id=\"T_13b19_level0_row5\" class=\"row_heading level0 row5\" >passenger_count</th>\n",
       "                        <td id=\"T_13b19_row5_col0\" class=\"data row5 col0\" >0.015778</td>\n",
       "                        <td id=\"T_13b19_row5_col1\" class=\"data row5 col1\" >-0.013213</td>\n",
       "                        <td id=\"T_13b19_row5_col2\" class=\"data row5 col2\" >-0.012889</td>\n",
       "                        <td id=\"T_13b19_row5_col3\" class=\"data row5 col3\" >-0.009325</td>\n",
       "                        <td id=\"T_13b19_row5_col4\" class=\"data row5 col4\" >-0.006329</td>\n",
       "                        <td id=\"T_13b19_row5_col5\" class=\"data row5 col5\" >1.000000</td>\n",
       "                        <td id=\"T_13b19_row5_col6\" class=\"data row5 col6\" >-0.194292</td>\n",
       "                        <td id=\"T_13b19_row5_col7\" class=\"data row5 col7\" >0.001115</td>\n",
       "                        <td id=\"T_13b19_row5_col8\" class=\"data row5 col8\" >0.020274</td>\n",
       "                        <td id=\"T_13b19_row5_col9\" class=\"data row5 col9\" >0.002712</td>\n",
       "                        <td id=\"T_13b19_row5_col10\" class=\"data row5 col10\" >0.010351</td>\n",
       "                        <td id=\"T_13b19_row5_col11\" class=\"data row5 col11\" >-0.009749</td>\n",
       "                        <td id=\"T_13b19_row5_col12\" class=\"data row5 col12\" >0.048550</td>\n",
       "            </tr>\n",
       "            <tr>\n",
       "                        <th id=\"T_13b19_level0_row6\" class=\"row_heading level0 row6\" >second</th>\n",
       "                        <td id=\"T_13b19_row6_col0\" class=\"data row6 col0\" >0.002976</td>\n",
       "                        <td id=\"T_13b19_row6_col1\" class=\"data row6 col1\" >-0.013308</td>\n",
       "                        <td id=\"T_13b19_row6_col2\" class=\"data row6 col2\" >0.006061</td>\n",
       "                        <td id=\"T_13b19_row6_col3\" class=\"data row6 col3\" >-0.005227</td>\n",
       "                        <td id=\"T_13b19_row6_col4\" class=\"data row6 col4\" >0.005177</td>\n",
       "                        <td id=\"T_13b19_row6_col5\" class=\"data row6 col5\" >-0.194292</td>\n",
       "                        <td id=\"T_13b19_row6_col6\" class=\"data row6 col6\" >1.000000</td>\n",
       "                        <td id=\"T_13b19_row6_col7\" class=\"data row6 col7\" >0.001987</td>\n",
       "                        <td id=\"T_13b19_row6_col8\" class=\"data row6 col8\" >-0.013240</td>\n",
       "                        <td id=\"T_13b19_row6_col9\" class=\"data row6 col9\" >-0.002107</td>\n",
       "                        <td id=\"T_13b19_row6_col10\" class=\"data row6 col10\" >-0.049937</td>\n",
       "                        <td id=\"T_13b19_row6_col11\" class=\"data row6 col11\" >0.083345</td>\n",
       "                        <td id=\"T_13b19_row6_col12\" class=\"data row6 col12\" >-0.000136</td>\n",
       "            </tr>\n",
       "            <tr>\n",
       "                        <th id=\"T_13b19_level0_row7\" class=\"row_heading level0 row7\" >minute</th>\n",
       "                        <td id=\"T_13b19_row7_col0\" class=\"data row7 col0\" >-0.009246</td>\n",
       "                        <td id=\"T_13b19_row7_col1\" class=\"data row7 col1\" >-0.005792</td>\n",
       "                        <td id=\"T_13b19_row7_col2\" class=\"data row7 col2\" >-0.003454</td>\n",
       "                        <td id=\"T_13b19_row7_col3\" class=\"data row7 col3\" >-0.004832</td>\n",
       "                        <td id=\"T_13b19_row7_col4\" class=\"data row7 col4\" >-0.003160</td>\n",
       "                        <td id=\"T_13b19_row7_col5\" class=\"data row7 col5\" >0.001115</td>\n",
       "                        <td id=\"T_13b19_row7_col6\" class=\"data row7 col6\" >0.001987</td>\n",
       "                        <td id=\"T_13b19_row7_col7\" class=\"data row7 col7\" >1.000000</td>\n",
       "                        <td id=\"T_13b19_row7_col8\" class=\"data row7 col8\" >0.001138</td>\n",
       "                        <td id=\"T_13b19_row7_col9\" class=\"data row7 col9\" >-0.001217</td>\n",
       "                        <td id=\"T_13b19_row7_col10\" class=\"data row7 col10\" >-0.001485</td>\n",
       "                        <td id=\"T_13b19_row7_col11\" class=\"data row7 col11\" >-0.002805</td>\n",
       "                        <td id=\"T_13b19_row7_col12\" class=\"data row7 col12\" >-0.002328</td>\n",
       "            </tr>\n",
       "            <tr>\n",
       "                        <th id=\"T_13b19_level0_row8\" class=\"row_heading level0 row8\" >hour</th>\n",
       "                        <td id=\"T_13b19_row8_col0\" class=\"data row8 col0\" >-0.023623</td>\n",
       "                        <td id=\"T_13b19_row8_col1\" class=\"data row8 col1\" >0.011579</td>\n",
       "                        <td id=\"T_13b19_row8_col2\" class=\"data row8 col2\" >0.029681</td>\n",
       "                        <td id=\"T_13b19_row8_col3\" class=\"data row8 col3\" >-0.046578</td>\n",
       "                        <td id=\"T_13b19_row8_col4\" class=\"data row8 col4\" >0.019764</td>\n",
       "                        <td id=\"T_13b19_row8_col5\" class=\"data row8 col5\" >0.020274</td>\n",
       "                        <td id=\"T_13b19_row8_col6\" class=\"data row8 col6\" >-0.013240</td>\n",
       "                        <td id=\"T_13b19_row8_col7\" class=\"data row8 col7\" >0.001138</td>\n",
       "                        <td id=\"T_13b19_row8_col8\" class=\"data row8 col8\" >1.000000</td>\n",
       "                        <td id=\"T_13b19_row8_col9\" class=\"data row8 col9\" >0.004677</td>\n",
       "                        <td id=\"T_13b19_row8_col10\" class=\"data row8 col10\" >-0.003926</td>\n",
       "                        <td id=\"T_13b19_row8_col11\" class=\"data row8 col11\" >0.002156</td>\n",
       "                        <td id=\"T_13b19_row8_col12\" class=\"data row8 col12\" >-0.086947</td>\n",
       "            </tr>\n",
       "            <tr>\n",
       "                        <th id=\"T_13b19_level0_row9\" class=\"row_heading level0 row9\" >day</th>\n",
       "                        <td id=\"T_13b19_row9_col0\" class=\"data row9 col0\" >0.004534</td>\n",
       "                        <td id=\"T_13b19_row9_col1\" class=\"data row9 col1\" >-0.003204</td>\n",
       "                        <td id=\"T_13b19_row9_col2\" class=\"data row9 col2\" >-0.001553</td>\n",
       "                        <td id=\"T_13b19_row9_col3\" class=\"data row9 col3\" >-0.004027</td>\n",
       "                        <td id=\"T_13b19_row9_col4\" class=\"data row9 col4\" >-0.003499</td>\n",
       "                        <td id=\"T_13b19_row9_col5\" class=\"data row9 col5\" >0.002712</td>\n",
       "                        <td id=\"T_13b19_row9_col6\" class=\"data row9 col6\" >-0.002107</td>\n",
       "                        <td id=\"T_13b19_row9_col7\" class=\"data row9 col7\" >-0.001217</td>\n",
       "                        <td id=\"T_13b19_row9_col8\" class=\"data row9 col8\" >0.004677</td>\n",
       "                        <td id=\"T_13b19_row9_col9\" class=\"data row9 col9\" >1.000000</td>\n",
       "                        <td id=\"T_13b19_row9_col10\" class=\"data row9 col10\" >-0.017360</td>\n",
       "                        <td id=\"T_13b19_row9_col11\" class=\"data row9 col11\" >-0.012170</td>\n",
       "                        <td id=\"T_13b19_row9_col12\" class=\"data row9 col12\" >0.005617</td>\n",
       "            </tr>\n",
       "            <tr>\n",
       "                        <th id=\"T_13b19_level0_row10\" class=\"row_heading level0 row10\" >month</th>\n",
       "                        <td id=\"T_13b19_row10_col0\" class=\"data row10 col0\" >0.030817</td>\n",
       "                        <td id=\"T_13b19_row10_col1\" class=\"data row10 col1\" >0.001169</td>\n",
       "                        <td id=\"T_13b19_row10_col2\" class=\"data row10 col2\" >0.001562</td>\n",
       "                        <td id=\"T_13b19_row10_col3\" class=\"data row10 col3\" >0.002394</td>\n",
       "                        <td id=\"T_13b19_row10_col4\" class=\"data row10 col4\" >-0.001190</td>\n",
       "                        <td id=\"T_13b19_row10_col5\" class=\"data row10 col5\" >0.010351</td>\n",
       "                        <td id=\"T_13b19_row10_col6\" class=\"data row10 col6\" >-0.049937</td>\n",
       "                        <td id=\"T_13b19_row10_col7\" class=\"data row10 col7\" >-0.001485</td>\n",
       "                        <td id=\"T_13b19_row10_col8\" class=\"data row10 col8\" >-0.003926</td>\n",
       "                        <td id=\"T_13b19_row10_col9\" class=\"data row10 col9\" >-0.017360</td>\n",
       "                        <td id=\"T_13b19_row10_col10\" class=\"data row10 col10\" >1.000000</td>\n",
       "                        <td id=\"T_13b19_row10_col11\" class=\"data row10 col11\" >-0.115859</td>\n",
       "                        <td id=\"T_13b19_row10_col12\" class=\"data row10 col12\" >-0.008786</td>\n",
       "            </tr>\n",
       "            <tr>\n",
       "                        <th id=\"T_13b19_level0_row11\" class=\"row_heading level0 row11\" >year</th>\n",
       "                        <td id=\"T_13b19_row11_col0\" class=\"data row11 col0\" >0.141277</td>\n",
       "                        <td id=\"T_13b19_row11_col1\" class=\"data row11 col1\" >0.010198</td>\n",
       "                        <td id=\"T_13b19_row11_col2\" class=\"data row11 col2\" >-0.014243</td>\n",
       "                        <td id=\"T_13b19_row11_col3\" class=\"data row11 col3\" >0.011355</td>\n",
       "                        <td id=\"T_13b19_row11_col4\" class=\"data row11 col4\" >-0.009595</td>\n",
       "                        <td id=\"T_13b19_row11_col5\" class=\"data row11 col5\" >-0.009749</td>\n",
       "                        <td id=\"T_13b19_row11_col6\" class=\"data row11 col6\" >0.083345</td>\n",
       "                        <td id=\"T_13b19_row11_col7\" class=\"data row11 col7\" >-0.002805</td>\n",
       "                        <td id=\"T_13b19_row11_col8\" class=\"data row11 col8\" >0.002156</td>\n",
       "                        <td id=\"T_13b19_row11_col9\" class=\"data row11 col9\" >-0.012170</td>\n",
       "                        <td id=\"T_13b19_row11_col10\" class=\"data row11 col10\" >-0.115859</td>\n",
       "                        <td id=\"T_13b19_row11_col11\" class=\"data row11 col11\" >1.000000</td>\n",
       "                        <td id=\"T_13b19_row11_col12\" class=\"data row11 col12\" >0.006113</td>\n",
       "            </tr>\n",
       "            <tr>\n",
       "                        <th id=\"T_13b19_level0_row12\" class=\"row_heading level0 row12\" >dayofweek</th>\n",
       "                        <td id=\"T_13b19_row12_col0\" class=\"data row12 col0\" >0.013652</td>\n",
       "                        <td id=\"T_13b19_row12_col1\" class=\"data row12 col1\" >-0.024652</td>\n",
       "                        <td id=\"T_13b19_row12_col2\" class=\"data row12 col2\" >-0.042310</td>\n",
       "                        <td id=\"T_13b19_row12_col3\" class=\"data row12 col3\" >-0.003349</td>\n",
       "                        <td id=\"T_13b19_row12_col4\" class=\"data row12 col4\" >-0.031932</td>\n",
       "                        <td id=\"T_13b19_row12_col5\" class=\"data row12 col5\" >0.048550</td>\n",
       "                        <td id=\"T_13b19_row12_col6\" class=\"data row12 col6\" >-0.000136</td>\n",
       "                        <td id=\"T_13b19_row12_col7\" class=\"data row12 col7\" >-0.002328</td>\n",
       "                        <td id=\"T_13b19_row12_col8\" class=\"data row12 col8\" >-0.086947</td>\n",
       "                        <td id=\"T_13b19_row12_col9\" class=\"data row12 col9\" >0.005617</td>\n",
       "                        <td id=\"T_13b19_row12_col10\" class=\"data row12 col10\" >-0.008786</td>\n",
       "                        <td id=\"T_13b19_row12_col11\" class=\"data row12 col11\" >0.006113</td>\n",
       "                        <td id=\"T_13b19_row12_col12\" class=\"data row12 col12\" >1.000000</td>\n",
       "            </tr>\n",
       "    </tbody></table>"
      ],
      "text/plain": [
       "<pandas.io.formats.style.Styler at 0x237de066f10>"
      ]
     },
     "execution_count": 37,
     "metadata": {},
     "output_type": "execute_result"
    }
   ],
   "source": [
    "corr.style.background_gradient(cmap = 'BuGn')"
   ]
  },
  {
   "cell_type": "code",
   "execution_count": 39,
   "id": "7fea7d5c",
   "metadata": {},
   "outputs": [],
   "source": [
    "incorrect_coordinates = df.loc [\n",
    "    (df.pickup_latitude > 90) | (df.pickup_latitude <-90)|\n",
    "    (df.dropoff_latitude >90) | (df.dropoff_latitude < -90) |\n",
    "    (df.pickup_longitude > 180) | (df.pickup_longitude < -180) |\n",
    "    (df.dropoff_longitude > 90) | (df.dropoff_longitude < -90)\n",
    "]\n",
    "df.drop(incorrect_coordinates, inplace = True, errors = 'ignore')"
   ]
  },
  {
   "cell_type": "code",
   "execution_count": 40,
   "id": "687ff21e",
   "metadata": {},
   "outputs": [
    {
     "data": {
      "text/html": [
       "<div>\n",
       "<style scoped>\n",
       "    .dataframe tbody tr th:only-of-type {\n",
       "        vertical-align: middle;\n",
       "    }\n",
       "\n",
       "    .dataframe tbody tr th {\n",
       "        vertical-align: top;\n",
       "    }\n",
       "\n",
       "    .dataframe thead th {\n",
       "        text-align: right;\n",
       "    }\n",
       "</style>\n",
       "<table border=\"1\" class=\"dataframe\">\n",
       "  <thead>\n",
       "    <tr style=\"text-align: right;\">\n",
       "      <th></th>\n",
       "      <th>fare_amount</th>\n",
       "      <th>pickup_longitude</th>\n",
       "      <th>pickup_latitude</th>\n",
       "      <th>dropoff_longitude</th>\n",
       "      <th>dropoff_latitude</th>\n",
       "      <th>passenger_count</th>\n",
       "      <th>second</th>\n",
       "      <th>minute</th>\n",
       "      <th>hour</th>\n",
       "      <th>day</th>\n",
       "      <th>month</th>\n",
       "      <th>year</th>\n",
       "      <th>dayofweek</th>\n",
       "    </tr>\n",
       "  </thead>\n",
       "  <tbody>\n",
       "    <tr>\n",
       "      <th>0</th>\n",
       "      <td>7.5</td>\n",
       "      <td>-73.999817</td>\n",
       "      <td>40.738354</td>\n",
       "      <td>-73.999512</td>\n",
       "      <td>40.723217</td>\n",
       "      <td>1.0</td>\n",
       "      <td>6</td>\n",
       "      <td>52</td>\n",
       "      <td>19</td>\n",
       "      <td>7</td>\n",
       "      <td>5</td>\n",
       "      <td>2015</td>\n",
       "      <td>3</td>\n",
       "    </tr>\n",
       "    <tr>\n",
       "      <th>1</th>\n",
       "      <td>7.7</td>\n",
       "      <td>-73.994355</td>\n",
       "      <td>40.728225</td>\n",
       "      <td>-73.994710</td>\n",
       "      <td>40.750325</td>\n",
       "      <td>1.0</td>\n",
       "      <td>56</td>\n",
       "      <td>4</td>\n",
       "      <td>20</td>\n",
       "      <td>17</td>\n",
       "      <td>7</td>\n",
       "      <td>2009</td>\n",
       "      <td>4</td>\n",
       "    </tr>\n",
       "    <tr>\n",
       "      <th>2</th>\n",
       "      <td>12.9</td>\n",
       "      <td>-74.005043</td>\n",
       "      <td>40.740770</td>\n",
       "      <td>-73.962565</td>\n",
       "      <td>40.772647</td>\n",
       "      <td>1.0</td>\n",
       "      <td>0</td>\n",
       "      <td>45</td>\n",
       "      <td>21</td>\n",
       "      <td>24</td>\n",
       "      <td>8</td>\n",
       "      <td>2009</td>\n",
       "      <td>0</td>\n",
       "    </tr>\n",
       "    <tr>\n",
       "      <th>3</th>\n",
       "      <td>5.3</td>\n",
       "      <td>-73.976124</td>\n",
       "      <td>40.790844</td>\n",
       "      <td>-73.965316</td>\n",
       "      <td>40.803349</td>\n",
       "      <td>3.0</td>\n",
       "      <td>21</td>\n",
       "      <td>22</td>\n",
       "      <td>8</td>\n",
       "      <td>26</td>\n",
       "      <td>6</td>\n",
       "      <td>2009</td>\n",
       "      <td>4</td>\n",
       "    </tr>\n",
       "    <tr>\n",
       "      <th>4</th>\n",
       "      <td>16.0</td>\n",
       "      <td>-73.929786</td>\n",
       "      <td>40.744085</td>\n",
       "      <td>-73.973082</td>\n",
       "      <td>40.761247</td>\n",
       "      <td>3.5</td>\n",
       "      <td>0</td>\n",
       "      <td>47</td>\n",
       "      <td>17</td>\n",
       "      <td>28</td>\n",
       "      <td>8</td>\n",
       "      <td>2014</td>\n",
       "      <td>3</td>\n",
       "    </tr>\n",
       "  </tbody>\n",
       "</table>\n",
       "</div>"
      ],
      "text/plain": [
       "   fare_amount  pickup_longitude  pickup_latitude  dropoff_longitude  \\\n",
       "0          7.5        -73.999817        40.738354         -73.999512   \n",
       "1          7.7        -73.994355        40.728225         -73.994710   \n",
       "2         12.9        -74.005043        40.740770         -73.962565   \n",
       "3          5.3        -73.976124        40.790844         -73.965316   \n",
       "4         16.0        -73.929786        40.744085         -73.973082   \n",
       "\n",
       "   dropoff_latitude  passenger_count  second  minute  hour  day  month  year  \\\n",
       "0         40.723217              1.0       6      52    19    7      5  2015   \n",
       "1         40.750325              1.0      56       4    20   17      7  2009   \n",
       "2         40.772647              1.0       0      45    21   24      8  2009   \n",
       "3         40.803349              3.0      21      22     8   26      6  2009   \n",
       "4         40.761247              3.5       0      47    17   28      8  2014   \n",
       "\n",
       "   dayofweek  \n",
       "0          3  \n",
       "1          4  \n",
       "2          0  \n",
       "3          4  \n",
       "4          3  "
      ]
     },
     "execution_count": 40,
     "metadata": {},
     "output_type": "execute_result"
    }
   ],
   "source": [
    "df.head()"
   ]
  },
  {
   "cell_type": "code",
   "execution_count": 42,
   "id": "d8c437ac",
   "metadata": {},
   "outputs": [
    {
     "name": "stdout",
     "output_type": "stream",
     "text": [
      "Collecting haversine\n",
      "  Using cached haversine-2.8.0-py2.py3-none-any.whl (7.7 kB)\n",
      "Installing collected packages: haversine\n",
      "Successfully installed haversine-2.8.0\n"
     ]
    }
   ],
   "source": [
    "!pip install haversine\n",
    "import haversine as hs"
   ]
  },
  {
   "cell_type": "code",
   "execution_count": 43,
   "id": "18eddef5",
   "metadata": {},
   "outputs": [],
   "source": [
    "travel_dist = []\n",
    "for pos in range(len(df['pickup_longitude'])):\n",
    "    long1, lati1, long2, lati2 = df['pickup_longitude'][pos], df['pickup_latitude'][pos], df['dropoff_longitude'][pos], df['dropoff_latitude'][pos]\n",
    "    loc1 = (lati1, long1)\n",
    "    loc2 = (lati2, long2)\n",
    "    c = hs.haversine(loc1, loc2)\n",
    "    travel_dist.append(c)\n",
    "df['dist_travel_km'] = travel_dist"
   ]
  },
  {
   "cell_type": "code",
   "execution_count": 44,
   "id": "e25f7dc6",
   "metadata": {},
   "outputs": [
    {
     "data": {
      "text/html": [
       "<div>\n",
       "<style scoped>\n",
       "    .dataframe tbody tr th:only-of-type {\n",
       "        vertical-align: middle;\n",
       "    }\n",
       "\n",
       "    .dataframe tbody tr th {\n",
       "        vertical-align: top;\n",
       "    }\n",
       "\n",
       "    .dataframe thead th {\n",
       "        text-align: right;\n",
       "    }\n",
       "</style>\n",
       "<table border=\"1\" class=\"dataframe\">\n",
       "  <thead>\n",
       "    <tr style=\"text-align: right;\">\n",
       "      <th></th>\n",
       "      <th>fare_amount</th>\n",
       "      <th>pickup_longitude</th>\n",
       "      <th>pickup_latitude</th>\n",
       "      <th>dropoff_longitude</th>\n",
       "      <th>dropoff_latitude</th>\n",
       "      <th>passenger_count</th>\n",
       "      <th>second</th>\n",
       "      <th>minute</th>\n",
       "      <th>hour</th>\n",
       "      <th>day</th>\n",
       "      <th>month</th>\n",
       "      <th>year</th>\n",
       "      <th>dayofweek</th>\n",
       "      <th>dist_travel_km</th>\n",
       "    </tr>\n",
       "  </thead>\n",
       "  <tbody>\n",
       "    <tr>\n",
       "      <th>0</th>\n",
       "      <td>7.5</td>\n",
       "      <td>-73.999817</td>\n",
       "      <td>40.738354</td>\n",
       "      <td>-73.999512</td>\n",
       "      <td>40.723217</td>\n",
       "      <td>1.0</td>\n",
       "      <td>6</td>\n",
       "      <td>52</td>\n",
       "      <td>19</td>\n",
       "      <td>7</td>\n",
       "      <td>5</td>\n",
       "      <td>2015</td>\n",
       "      <td>3</td>\n",
       "      <td>1.683325</td>\n",
       "    </tr>\n",
       "    <tr>\n",
       "      <th>1</th>\n",
       "      <td>7.7</td>\n",
       "      <td>-73.994355</td>\n",
       "      <td>40.728225</td>\n",
       "      <td>-73.994710</td>\n",
       "      <td>40.750325</td>\n",
       "      <td>1.0</td>\n",
       "      <td>56</td>\n",
       "      <td>4</td>\n",
       "      <td>20</td>\n",
       "      <td>17</td>\n",
       "      <td>7</td>\n",
       "      <td>2009</td>\n",
       "      <td>4</td>\n",
       "      <td>2.457593</td>\n",
       "    </tr>\n",
       "    <tr>\n",
       "      <th>2</th>\n",
       "      <td>12.9</td>\n",
       "      <td>-74.005043</td>\n",
       "      <td>40.740770</td>\n",
       "      <td>-73.962565</td>\n",
       "      <td>40.772647</td>\n",
       "      <td>1.0</td>\n",
       "      <td>0</td>\n",
       "      <td>45</td>\n",
       "      <td>21</td>\n",
       "      <td>24</td>\n",
       "      <td>8</td>\n",
       "      <td>2009</td>\n",
       "      <td>0</td>\n",
       "      <td>5.036384</td>\n",
       "    </tr>\n",
       "    <tr>\n",
       "      <th>3</th>\n",
       "      <td>5.3</td>\n",
       "      <td>-73.976124</td>\n",
       "      <td>40.790844</td>\n",
       "      <td>-73.965316</td>\n",
       "      <td>40.803349</td>\n",
       "      <td>3.0</td>\n",
       "      <td>21</td>\n",
       "      <td>22</td>\n",
       "      <td>8</td>\n",
       "      <td>26</td>\n",
       "      <td>6</td>\n",
       "      <td>2009</td>\n",
       "      <td>4</td>\n",
       "      <td>1.661686</td>\n",
       "    </tr>\n",
       "    <tr>\n",
       "      <th>4</th>\n",
       "      <td>16.0</td>\n",
       "      <td>-73.929786</td>\n",
       "      <td>40.744085</td>\n",
       "      <td>-73.973082</td>\n",
       "      <td>40.761247</td>\n",
       "      <td>3.5</td>\n",
       "      <td>0</td>\n",
       "      <td>47</td>\n",
       "      <td>17</td>\n",
       "      <td>28</td>\n",
       "      <td>8</td>\n",
       "      <td>2014</td>\n",
       "      <td>3</td>\n",
       "      <td>4.116088</td>\n",
       "    </tr>\n",
       "  </tbody>\n",
       "</table>\n",
       "</div>"
      ],
      "text/plain": [
       "   fare_amount  pickup_longitude  pickup_latitude  dropoff_longitude  \\\n",
       "0          7.5        -73.999817        40.738354         -73.999512   \n",
       "1          7.7        -73.994355        40.728225         -73.994710   \n",
       "2         12.9        -74.005043        40.740770         -73.962565   \n",
       "3          5.3        -73.976124        40.790844         -73.965316   \n",
       "4         16.0        -73.929786        40.744085         -73.973082   \n",
       "\n",
       "   dropoff_latitude  passenger_count  second  minute  hour  day  month  year  \\\n",
       "0         40.723217              1.0       6      52    19    7      5  2015   \n",
       "1         40.750325              1.0      56       4    20   17      7  2009   \n",
       "2         40.772647              1.0       0      45    21   24      8  2009   \n",
       "3         40.803349              3.0      21      22     8   26      6  2009   \n",
       "4         40.761247              3.5       0      47    17   28      8  2014   \n",
       "\n",
       "   dayofweek  dist_travel_km  \n",
       "0          3        1.683325  \n",
       "1          4        2.457593  \n",
       "2          0        5.036384  \n",
       "3          4        1.661686  \n",
       "4          3        4.116088  "
      ]
     },
     "execution_count": 44,
     "metadata": {},
     "output_type": "execute_result"
    }
   ],
   "source": [
    "df.head()"
   ]
  },
  {
   "cell_type": "code",
   "execution_count": 45,
   "id": "d00a55ad",
   "metadata": {},
   "outputs": [],
   "source": [
    "X = df[['pickup_longitude','pickup_latitude','dropoff_longitude','dropoff_latitude']]\n",
    "y = df['fare_amount']"
   ]
  },
  {
   "cell_type": "code",
   "execution_count": 47,
   "id": "c214284b",
   "metadata": {},
   "outputs": [],
   "source": [
    "from sklearn.model_selection import train_test_split\n",
    "X_train, X_test, y_train, y_test = train_test_split(X,y,test_size = 0.33)"
   ]
  },
  {
   "cell_type": "code",
   "execution_count": 49,
   "id": "43a76ac6",
   "metadata": {},
   "outputs": [],
   "source": [
    "from sklearn.linear_model import LinearRegression\n",
    "regression = LinearRegression()"
   ]
  },
  {
   "cell_type": "code",
   "execution_count": 50,
   "id": "5c87385f",
   "metadata": {},
   "outputs": [
    {
     "data": {
      "text/plain": [
       "LinearRegression()"
      ]
     },
     "execution_count": 50,
     "metadata": {},
     "output_type": "execute_result"
    }
   ],
   "source": [
    "regression.fit(X_train, y_train) "
   ]
  },
  {
   "cell_type": "code",
   "execution_count": 53,
   "id": "13fb77f3",
   "metadata": {},
   "outputs": [
    {
     "data": {
      "text/plain": [
       "7443.143086116984"
      ]
     },
     "execution_count": 53,
     "metadata": {},
     "output_type": "execute_result"
    }
   ],
   "source": [
    "regression.intercept_"
   ]
  },
  {
   "cell_type": "code",
   "execution_count": 57,
   "id": "67d6e87b",
   "metadata": {},
   "outputs": [
    {
     "data": {
      "text/plain": [
       "array([ 24.15402573, -14.21917335,  52.36851487, -29.26927751])"
      ]
     },
     "execution_count": 57,
     "metadata": {},
     "output_type": "execute_result"
    }
   ],
   "source": [
    "regression.coef_"
   ]
  },
  {
   "cell_type": "code",
   "execution_count": 60,
   "id": "988bbcae",
   "metadata": {},
   "outputs": [
    {
     "name": "stdout",
     "output_type": "stream",
     "text": [
      "[10.56509108  9.52442007  8.29093802 ...  8.88391996 11.39220543\n",
      "  9.09166943]\n"
     ]
    }
   ],
   "source": [
    "pred = regression.predict(X_test)\n",
    "print(pred)"
   ]
  },
  {
   "cell_type": "code",
   "execution_count": 61,
   "id": "85f9df86",
   "metadata": {},
   "outputs": [
    {
     "data": {
      "text/plain": [
       "163791     3.7\n",
       "110661     4.5\n",
       "97224      6.0\n",
       "165062    14.1\n",
       "199666     9.0\n",
       "          ... \n",
       "19373      8.1\n",
       "70444     12.5\n",
       "126613     5.0\n",
       "80262     13.7\n",
       "44550      9.5\n",
       "Name: fare_amount, Length: 66000, dtype: float64"
      ]
     },
     "execution_count": 61,
     "metadata": {},
     "output_type": "execute_result"
    }
   ],
   "source": [
    "y_test"
   ]
  },
  {
   "cell_type": "code",
   "execution_count": 62,
   "id": "9dc774f5",
   "metadata": {},
   "outputs": [
    {
     "data": {
      "text/plain": [
       "0.08792320790300756"
      ]
     },
     "execution_count": 62,
     "metadata": {},
     "output_type": "execute_result"
    }
   ],
   "source": [
    "from sklearn.metrics import r2_score\n",
    "r2_score (y_test,pred)"
   ]
  },
  {
   "cell_type": "code",
   "execution_count": 64,
   "id": "efb009db",
   "metadata": {},
   "outputs": [
    {
     "name": "stdout",
     "output_type": "stream",
     "text": [
      "26.95157107393341\n"
     ]
    }
   ],
   "source": [
    "from sklearn.metrics import mean_squared_error\n",
    "MSE = mean_squared_error(y_test,pred)\n",
    "print(MSE)"
   ]
  },
  {
   "cell_type": "code",
   "execution_count": 67,
   "id": "f9c99e38",
   "metadata": {},
   "outputs": [
    {
     "name": "stdout",
     "output_type": "stream",
     "text": [
      "5.191490255594573\n"
     ]
    }
   ],
   "source": [
    "RMSE = np.sqrt(MSE)\n",
    "print(RMSE)"
   ]
  },
  {
   "cell_type": "code",
   "execution_count": 68,
   "id": "75d810cf",
   "metadata": {},
   "outputs": [
    {
     "data": {
      "text/plain": [
       "RandomForestRegressor()"
      ]
     },
     "execution_count": 68,
     "metadata": {},
     "output_type": "execute_result"
    }
   ],
   "source": [
    "rf = RandomForestRegressor(n_estimators = 100)\n",
    "rf.fit(X_train,y_train)"
   ]
  },
  {
   "cell_type": "code",
   "execution_count": 69,
   "id": "7c89c7f2",
   "metadata": {},
   "outputs": [
    {
     "data": {
      "text/plain": [
       "array([ 4.077,  5.835,  6.125, ...,  4.789, 14.239, 10.16 ])"
      ]
     },
     "execution_count": 69,
     "metadata": {},
     "output_type": "execute_result"
    }
   ],
   "source": [
    "y_pred = rf.predict(X_test)\n",
    "y_pred"
   ]
  },
  {
   "cell_type": "code",
   "execution_count": 70,
   "id": "c66df372",
   "metadata": {},
   "outputs": [
    {
     "name": "stdout",
     "output_type": "stream",
     "text": [
      "0.7591822867050741\n",
      "7.1160847112532455\n",
      "2.6675990536910237\n"
     ]
    }
   ],
   "source": [
    "R2_Random = r2_score(y_test,y_pred)\n",
    "print(R2_Random)\n",
    "\n",
    "MSE_Random = mean_squared_error(y_test,y_pred)\n",
    "print(MSE_Random)\n",
    "\n",
    "RMSE_Random = np.sqrt(MSE_Random)\n",
    "print(RMSE_Random)"
   ]
  },
  {
   "cell_type": "code",
   "execution_count": 71,
   "id": "41b2a0bc",
   "metadata": {},
   "outputs": [
    {
     "name": "stdout",
     "output_type": "stream",
     "text": [
      "Enter a number: 23\n",
      "Fibonacci value (recursive): 28657\n",
      "Fibonacci value using Iteration: 28657\n",
      "Number of steps taken by recursion: 46367\n",
      "Iterative steps: 22\n"
     ]
    }
   ],
   "source": []
  },
  {
   "cell_type": "code",
   "execution_count": null,
   "id": "194e1b99",
   "metadata": {},
   "outputs": [],
   "source": []
  }
 ],
 "metadata": {
  "kernelspec": {
   "display_name": "Python 3",
   "language": "python",
   "name": "python3"
  },
  "language_info": {
   "codemirror_mode": {
    "name": "ipython",
    "version": 3
   },
   "file_extension": ".py",
   "mimetype": "text/x-python",
   "name": "python",
   "nbconvert_exporter": "python",
   "pygments_lexer": "ipython3",
   "version": "3.8.8"
  }
 },
 "nbformat": 4,
 "nbformat_minor": 5
}
